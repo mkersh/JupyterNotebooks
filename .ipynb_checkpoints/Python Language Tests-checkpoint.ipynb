{
 "cells": [
  {
   "cell_type": "markdown",
   "metadata": {},
   "source": [
    "# Python Language Tests\n",
    "* [Data Structures](#section1)\n",
    "    * [Lists](#section2)\n",
    "        * [Slicing](#section2_1)\n",
    "        * [Comprehension](#section2_2)\n",
    "    * [Tuples](#section3)\n",
    "    * [Dictionaries](#section4)\n",
    "    * [Sets](#section5)\n",
    "    * [Iterators + Generators](#section6)\n",
    "        * [Coroutines](#section6a)\n",
    "    * [Strings + Unicode](#section7)\n",
    "    * [Functions](#section8)\n",
    "    * [Classes](#section9)"
   ]
  },
  {
   "cell_type": "markdown",
   "metadata": {},
   "source": [
    "<a id=\"section1\"></a>\n",
    "## Explore Python Data Structure Types"
   ]
  },
  {
   "cell_type": "markdown",
   "metadata": {},
   "source": [
    "There are 4 main (complex) data structure containers in Python.\n",
    "\n",
    "* List\n",
    "* Tuple\n",
    "* Dict\n",
    "* set\n",
    "\n",
    "Let's play around with each of them. "
   ]
  },
  {
   "cell_type": "code",
   "execution_count": 1,
   "metadata": {},
   "outputs": [
    {
     "data": {
      "application/javascript": [
       "IPython.notebook.set_autosave_interval(30000)"
      ]
     },
     "metadata": {},
     "output_type": "display_data"
    },
    {
     "name": "stdout",
     "output_type": "stream",
     "text": [
      "Autosaving every 30 seconds\n"
     ]
    }
   ],
   "source": [
    "%autosave 30"
   ]
  },
  {
   "cell_type": "code",
   "execution_count": 2,
   "metadata": {},
   "outputs": [],
   "source": [
    "import matplotlib.pyplot as plt\n",
    "from math import *"
   ]
  },
  {
   "cell_type": "markdown",
   "metadata": {},
   "source": [
    "<a id=\"section2\"></a>\n",
    "### Lists - Mutable sequence of objects"
   ]
  },
  {
   "cell_type": "code",
   "execution_count": 3,
   "metadata": {},
   "outputs": [],
   "source": [
    "x = [3,4,1,5,6,7]"
   ]
  },
  {
   "cell_type": "code",
   "execution_count": 4,
   "metadata": {},
   "outputs": [
    {
     "name": "stdout",
     "output_type": "stream",
     "text": [
      "[3, 4, 1, 5, 6, 7, 8]\n"
     ]
    }
   ],
   "source": [
    "# Lists are mutable - which means their content can be modified\n",
    "# This is the key difference between lists and tuples\n",
    "x.append(8)\n",
    "print(x)"
   ]
  },
  {
   "cell_type": "code",
   "execution_count": 21,
   "metadata": {},
   "outputs": [
    {
     "name": "stdout",
     "output_type": "stream",
     "text": [
      "[3, 4, 1, 5, 6, 7, 8]\n",
      "[3, 4, 1, 5, 6, 7, 8, 9]\n"
     ]
    }
   ],
   "source": [
    "y = x[:] # This makes a copy of the list\n",
    "y = list(x) # this is another way to make a copy\n",
    "y.append(9)\n",
    "print(x)\n",
    "print(y)"
   ]
  },
  {
   "cell_type": "code",
   "execution_count": 28,
   "metadata": {},
   "outputs": [
    {
     "name": "stdout",
     "output_type": "stream",
     "text": [
      "[3, 4, 1, 5, 6, 7, 8]\n",
      "[3, 4, 1, 5, 6, 7, 8, 4]\n"
     ]
    }
   ],
   "source": [
    "import copy\n",
    "z = copy.copy(x) # another way to make a copy\n",
    "z = copy.deepcopy(x) # All previous 3 methods are what we call shallow copies. This is a deepcopy\n",
    "z.append(4)\n",
    "print(x)\n",
    "print(z)"
   ]
  },
  {
   "cell_type": "code",
   "execution_count": 32,
   "metadata": {},
   "outputs": [
    {
     "name": "stdout",
     "output_type": "stream",
     "text": [
      "[3, 4, 1, 5, 6, 7, 8, ['mouse', 'horse']]\n",
      "[3, 4, 1, 5, 6, 7, 8, 'mouse', 'horse']\n"
     ]
    }
   ],
   "source": [
    "y = list(x)\n",
    "z = list(x)\n",
    "y.append([\"mouse\", \"horse\"])\n",
    "z.extend([\"mouse\", \"horse\"])\n",
    "print(y)\n",
    "print(z)"
   ]
  },
  {
   "cell_type": "markdown",
   "metadata": {},
   "source": [
    "<a id=\"section2_1\"></a>\n",
    "#### Slicing\n",
    "You can access elements of collections (including lists) using [] slice syntax"
   ]
  },
  {
   "cell_type": "code",
   "execution_count": 36,
   "metadata": {},
   "outputs": [
    {
     "data": {
      "text/plain": [
       "(3, 4, 8)"
      ]
     },
     "execution_count": 36,
     "metadata": {},
     "output_type": "execute_result"
    }
   ],
   "source": [
    "x[0], x[1], x[6]  # This is the way to extract an element at a given position. index position start at 0"
   ]
  },
  {
   "cell_type": "code",
   "execution_count": 38,
   "metadata": {},
   "outputs": [
    {
     "name": "stdout",
     "output_type": "stream",
     "text": [
      "[3, 4, 1, 5, 6, 7, 8]\n"
     ]
    },
    {
     "data": {
      "text/plain": [
       "(8, 7)"
      ]
     },
     "execution_count": 38,
     "metadata": {},
     "output_type": "execute_result"
    }
   ],
   "source": [
    "# Python allows you to work backwards by refering to -ve indexes\n",
    "\n",
    "print(x)\n",
    "x[-1], x[-2] # reverse indexes start at -1 (which is slightly confusing)"
   ]
  },
  {
   "cell_type": "code",
   "execution_count": 42,
   "metadata": {},
   "outputs": [
    {
     "name": "stdout",
     "output_type": "stream",
     "text": [
      "7\n"
     ]
    },
    {
     "data": {
      "text/plain": [
       "2"
      ]
     },
     "execution_count": 42,
     "metadata": {},
     "output_type": "execute_result"
    }
   ],
   "source": [
    "print(len(x))\n",
    "x.index(1) # first occurence of an item in a list"
   ]
  },
  {
   "cell_type": "code",
   "execution_count": 52,
   "metadata": {},
   "outputs": [
    {
     "name": "stdout",
     "output_type": "stream",
     "text": [
      "[1, 2, 3, 4, 5, 6, 7, 8, 9, 10, 11, 12, 13, 14, 15, 16]\n",
      "[1, 2, 3, 4, 5]\n"
     ]
    }
   ],
   "source": [
    "x = [1,2,3,4,5,6,7,8,9,10,11,12,13,14,15,16]\n",
    "y = x[0:5] # Specify a range [start:end] - does not include end\n",
    "print(x)\n",
    "print(y)"
   ]
  },
  {
   "cell_type": "code",
   "execution_count": 57,
   "metadata": {
    "scrolled": true
   },
   "outputs": [
    {
     "name": "stdout",
     "output_type": "stream",
     "text": [
      "[1, 2, 3, 4, 5, 6, 7, 8, 9, 10, 11, 12, 13, 14, 15, 16]\n",
      "[1, 2, 3, 4, 5, 6, 7, 8, 9, 10, 11, 12, 13, 14, 15, 16]\n"
     ]
    }
   ],
   "source": [
    "y = x[0:] # This takes a slice from start to end\n",
    "print(x)\n",
    "print(y)"
   ]
  },
  {
   "cell_type": "code",
   "execution_count": 61,
   "metadata": {},
   "outputs": [
    {
     "name": "stdout",
     "output_type": "stream",
     "text": [
      "[1, 2, 3, 4, 5, 6, 7, 8, 9, 10, 11, 12, 13, 14, 15, 16]\n",
      "[2, 4, 6, 8, 10, 12, 14, 16]\n"
     ]
    }
   ],
   "source": [
    "y = x[1::2] # From 2nd to end in steps of 2\n",
    "print(x)\n",
    "print(y)"
   ]
  },
  {
   "cell_type": "markdown",
   "metadata": {},
   "source": [
    "<a id=\"section2_2\"></a>\n",
    "#### Comprehension\n",
    "Comprehension syntax for defining lists"
   ]
  },
  {
   "cell_type": "code",
   "execution_count": 63,
   "metadata": {},
   "outputs": [
    {
     "data": {
      "text/plain": [
       "[1, 4, 9, 16, 25, 36, 49, 64, 81, 100, 121, 144, 169, 196, 225, 256]"
      ]
     },
     "execution_count": 63,
     "metadata": {},
     "output_type": "execute_result"
    }
   ],
   "source": [
    "y = [i*i for i in x]\n",
    "y"
   ]
  },
  {
   "cell_type": "code",
   "execution_count": 68,
   "metadata": {},
   "outputs": [
    {
     "data": {
      "text/plain": [
       "[<matplotlib.lines.Line2D at 0x11cba2d30>]"
      ]
     },
     "execution_count": 68,
     "metadata": {},
     "output_type": "execute_result"
    },
    {
     "data": {
      "image/png": "[encoded data removed]",
      "text/plain": [
       "<Figure size 432x288 with 1 Axes>"
      ]
     },
     "metadata": {
      "needs_background": "light"
     },
     "output_type": "display_data"
    }
   ],
   "source": [
    "y = [i*i for i in range(-100,100)]\n",
    "plt.plot(y)"
   ]
  },
  {
   "cell_type": "code",
   "execution_count": 89,
   "metadata": {},
   "outputs": [
    {
     "data": {
      "text/plain": [
       "[36, 64, 100, 144, 196, 256]"
      ]
     },
     "execution_count": 89,
     "metadata": {},
     "output_type": "execute_result"
    }
   ],
   "source": [
    "y = [i*i for i in x if i % 2 == 0 if i > 5]\n",
    "y"
   ]
  },
  {
   "cell_type": "code",
   "execution_count": 91,
   "metadata": {},
   "outputs": [
    {
     "data": {
      "text/plain": [
       "['[1] Hello World',\n",
       " '[2] Hello World',\n",
       " '[3] Hello World',\n",
       " '[4] Hello World',\n",
       " '[5] Hello World',\n",
       " '[6] Hello World',\n",
       " '[7] Hello World',\n",
       " '[8] Hello World',\n",
       " '[9] Hello World',\n",
       " '[10] Hello World',\n",
       " '[11] Hello World',\n",
       " '[12] Hello World',\n",
       " '[13] Hello World',\n",
       " '[14] Hello World',\n",
       " '[15] Hello World',\n",
       " '[16] Hello World']"
      ]
     },
     "execution_count": 91,
     "metadata": {},
     "output_type": "execute_result"
    }
   ],
   "source": [
    "x2 = [\"[{0}] Hello World\".format(i) for i in x]\n",
    "x2"
   ]
  },
  {
   "cell_type": "code",
   "execution_count": 92,
   "metadata": {},
   "outputs": [
    {
     "name": "stdout",
     "output_type": "stream",
     "text": [
      "This is line 1\n",
      "\n",
      "This is the second line\n",
      "\n",
      "line 3\n",
      "\n",
      "line 4\n"
     ]
    }
   ],
   "source": [
    "for i in open(\"testFile.txt\"):\n",
    "    print(i)"
   ]
  },
  {
   "cell_type": "code",
   "execution_count": 96,
   "metadata": {},
   "outputs": [
    {
     "data": {
      "text/plain": [
       "['[0] This is line 1\\n',\n",
       " '[1] This is the second line\\n',\n",
       " '[2] line 3\\n',\n",
       " '[3] line 4']"
      ]
     },
     "execution_count": 96,
     "metadata": {},
     "output_type": "execute_result"
    }
   ],
   "source": [
    "x3 = enumerate(open(\"testFile.txt\"))\n",
    "x4 = [\"[{0}] {1}\".format(i,line) for i, line in x3]\n",
    "x4"
   ]
  },
  {
   "cell_type": "markdown",
   "metadata": {},
   "source": [
    "<a id=\"section3\"></a>\n",
    "### Tuples - immutable sequence of objects\n",
    "\n",
    "Similar to lists but are immutable.\n"
   ]
  },
  {
   "cell_type": "code",
   "execution_count": 105,
   "metadata": {},
   "outputs": [
    {
     "data": {
      "text/plain": [
       "['__add__',\n",
       " '__class__',\n",
       " '__contains__',\n",
       " '__delattr__',\n",
       " '__dir__',\n",
       " '__eq__',\n",
       " '__format__',\n",
       " '__ge__',\n",
       " '__getattribute__',\n",
       " '__getitem__',\n",
       " '__getnewargs__',\n",
       " '__gt__',\n",
       " '__hash__',\n",
       " '__init__',\n",
       " '__init_subclass__',\n",
       " '__iter__',\n",
       " '__le__',\n",
       " '__len__',\n",
       " '__lt__',\n",
       " '__mul__',\n",
       " '__ne__',\n",
       " '__new__',\n",
       " '__reduce__',\n",
       " '__reduce_ex__',\n",
       " '__repr__',\n",
       " '__rmul__',\n",
       " '__setattr__',\n",
       " '__sizeof__',\n",
       " '__str__',\n",
       " '__subclasshook__',\n",
       " 'count',\n",
       " 'index']"
      ]
     },
     "execution_count": 105,
     "metadata": {},
     "output_type": "execute_result"
    }
   ],
   "source": [
    "x = (1,2,3,4,5,6,7,8,9,10)\n",
    "tupleMethods = [method_name for method_name in dir(x)\n",
    " if callable(getattr(x, method_name))]\n",
    "tupleMethods"
   ]
  },
  {
   "cell_type": "code",
   "execution_count": 108,
   "metadata": {},
   "outputs": [
    {
     "data": {
      "text/plain": [
       "['__add__',\n",
       " '__class__',\n",
       " '__contains__',\n",
       " '__delattr__',\n",
       " '__delitem__',\n",
       " '__dir__',\n",
       " '__doc__',\n",
       " '__eq__',\n",
       " '__format__',\n",
       " '__ge__',\n",
       " '__getattribute__',\n",
       " '__getitem__',\n",
       " '__gt__',\n",
       " '__hash__',\n",
       " '__iadd__',\n",
       " '__imul__',\n",
       " '__init__',\n",
       " '__init_subclass__',\n",
       " '__iter__',\n",
       " '__le__',\n",
       " '__len__',\n",
       " '__lt__',\n",
       " '__mul__',\n",
       " '__ne__',\n",
       " '__new__',\n",
       " '__reduce__',\n",
       " '__reduce_ex__',\n",
       " '__repr__',\n",
       " '__reversed__',\n",
       " '__rmul__',\n",
       " '__setattr__',\n",
       " '__setitem__',\n",
       " '__sizeof__',\n",
       " '__str__',\n",
       " '__subclasshook__',\n",
       " 'append',\n",
       " 'clear',\n",
       " 'copy',\n",
       " 'count',\n",
       " 'extend',\n",
       " 'index',\n",
       " 'insert',\n",
       " 'pop',\n",
       " 'remove',\n",
       " 'reverse',\n",
       " 'sort']"
      ]
     },
     "execution_count": 108,
     "metadata": {},
     "output_type": "execute_result"
    }
   ],
   "source": [
    "x = [1,2,3,4,5] # just for the record these are the methods on lists\n",
    "dir(x)"
   ]
  },
  {
   "cell_type": "markdown",
   "metadata": {},
   "source": [
    "<a id=\"section3\"></a>"
   ]
  },
  {
   "cell_type": "markdown",
   "metadata": {},
   "source": [
    "<a id=\"section4\"></a>\n",
    "#### Dictionaries"
   ]
  },
  {
   "cell_type": "code",
   "execution_count": 3,
   "metadata": {},
   "outputs": [
    {
     "data": {
      "text/plain": [
       "{'k1': 3, 'k2': 5, 'k3': 6}"
      ]
     },
     "execution_count": 3,
     "metadata": {},
     "output_type": "execute_result"
    }
   ],
   "source": [
    "x = {\n",
    "    'k1': 3,\n",
    "    'k2': 5,\n",
    "    'k3': 6\n",
    "}\n",
    "x"
   ]
  },
  {
   "cell_type": "code",
   "execution_count": 4,
   "metadata": {},
   "outputs": [
    {
     "data": {
      "text/plain": [
       "3"
      ]
     },
     "execution_count": 4,
     "metadata": {},
     "output_type": "execute_result"
    }
   ],
   "source": [
    "x['k1']"
   ]
  },
  {
   "cell_type": "code",
   "execution_count": 5,
   "metadata": {},
   "outputs": [],
   "source": [
    "x['k1'] = 99"
   ]
  },
  {
   "cell_type": "code",
   "execution_count": 6,
   "metadata": {},
   "outputs": [
    {
     "data": {
      "text/plain": [
       "{'k1': 99, 'k2': 5, 'k3': 6}"
      ]
     },
     "execution_count": 6,
     "metadata": {},
     "output_type": "execute_result"
    }
   ],
   "source": [
    "x"
   ]
  },
  {
   "cell_type": "code",
   "execution_count": 7,
   "metadata": {},
   "outputs": [],
   "source": [
    "del x['k1']"
   ]
  },
  {
   "cell_type": "code",
   "execution_count": 8,
   "metadata": {},
   "outputs": [
    {
     "data": {
      "text/plain": [
       "{'k2': 5, 'k3': 6}"
      ]
     },
     "execution_count": 8,
     "metadata": {},
     "output_type": "execute_result"
    }
   ],
   "source": [
    "x"
   ]
  },
  {
   "cell_type": "code",
   "execution_count": 9,
   "metadata": {},
   "outputs": [
    {
     "name": "stdout",
     "output_type": "stream",
     "text": [
      "k2\n",
      "k3\n"
     ]
    }
   ],
   "source": [
    "for i in x:\n",
    "    print(i)"
   ]
  },
  {
   "cell_type": "code",
   "execution_count": 10,
   "metadata": {},
   "outputs": [
    {
     "data": {
      "text/plain": [
       "dict_keys(['k2', 'k3'])"
      ]
     },
     "execution_count": 10,
     "metadata": {},
     "output_type": "execute_result"
    }
   ],
   "source": [
    "x.keys()"
   ]
  },
  {
   "cell_type": "code",
   "execution_count": 11,
   "metadata": {},
   "outputs": [
    {
     "data": {
      "text/plain": [
       "dict_items([('k2', 5), ('k3', 6)])"
      ]
     },
     "execution_count": 11,
     "metadata": {},
     "output_type": "execute_result"
    }
   ],
   "source": [
    "x.items()"
   ]
  },
  {
   "cell_type": "code",
   "execution_count": 12,
   "metadata": {},
   "outputs": [
    {
     "data": {
      "text/plain": [
       "dict_values([5, 6])"
      ]
     },
     "execution_count": 12,
     "metadata": {},
     "output_type": "execute_result"
    }
   ],
   "source": [
    "x.values()"
   ]
  },
  {
   "cell_type": "code",
   "execution_count": 13,
   "metadata": {},
   "outputs": [
    {
     "name": "stdout",
     "output_type": "stream",
     "text": [
      "k2 5\n",
      "k3 6\n"
     ]
    }
   ],
   "source": [
    "for k,v in x.items():\n",
    "    print(k,v)"
   ]
  },
  {
   "cell_type": "code",
   "execution_count": 14,
   "metadata": {},
   "outputs": [
    {
     "ename": "KeyError",
     "evalue": "'key0'",
     "output_type": "error",
     "traceback": [
      "\u001b[0;31m---------------------------------------------------------------------------\u001b[0m",
      "\u001b[0;31mKeyError\u001b[0m                                  Traceback (most recent call last)",
      "\u001b[0;32m<ipython-input-14-76daa190b5a7>\u001b[0m in \u001b[0;36m<module>\u001b[0;34m\u001b[0m\n\u001b[0;32m----> 1\u001b[0;31m \u001b[0mx\u001b[0m\u001b[0;34m[\u001b[0m\u001b[0;34m'key0'\u001b[0m\u001b[0;34m]\u001b[0m\u001b[0;34m\u001b[0m\u001b[0;34m\u001b[0m\u001b[0m\n\u001b[0m",
      "\u001b[0;31mKeyError\u001b[0m: 'key0'"
     ]
    }
   ],
   "source": [
    "x['key0']"
   ]
  },
  {
   "cell_type": "code",
   "execution_count": 17,
   "metadata": {},
   "outputs": [
    {
     "name": "stdout",
     "output_type": "stream",
     "text": [
      "None\n"
     ]
    }
   ],
   "source": [
    "print(x.get('key0'))"
   ]
  },
  {
   "cell_type": "code",
   "execution_count": 18,
   "metadata": {},
   "outputs": [
    {
     "data": {
      "text/plain": [
       "88"
      ]
     },
     "execution_count": 18,
     "metadata": {},
     "output_type": "execute_result"
    }
   ],
   "source": [
    "x.get('key0',88)"
   ]
  },
  {
   "cell_type": "markdown",
   "metadata": {},
   "source": [
    "<a id=\"section5\"></a>\n",
    "#### Sets"
   ]
  },
  {
   "cell_type": "code",
   "execution_count": 19,
   "metadata": {},
   "outputs": [],
   "source": [
    "x = {1,2,3,4,5}"
   ]
  },
  {
   "cell_type": "code",
   "execution_count": 20,
   "metadata": {},
   "outputs": [
    {
     "data": {
      "text/plain": [
       "{1, 2, 3, 4, 5}"
      ]
     },
     "execution_count": 20,
     "metadata": {},
     "output_type": "execute_result"
    }
   ],
   "source": [
    "x"
   ]
  },
  {
   "cell_type": "code",
   "execution_count": 21,
   "metadata": {},
   "outputs": [
    {
     "ename": "TypeError",
     "evalue": "'set' object does not support indexing",
     "output_type": "error",
     "traceback": [
      "\u001b[0;31m---------------------------------------------------------------------------\u001b[0m",
      "\u001b[0;31mTypeError\u001b[0m                                 Traceback (most recent call last)",
      "\u001b[0;32m<ipython-input-21-fb0e0080324e>\u001b[0m in \u001b[0;36m<module>\u001b[0;34m\u001b[0m\n\u001b[0;32m----> 1\u001b[0;31m \u001b[0mx\u001b[0m\u001b[0;34m[\u001b[0m\u001b[0;36m1\u001b[0m\u001b[0;34m]\u001b[0m\u001b[0;34m\u001b[0m\u001b[0;34m\u001b[0m\u001b[0m\n\u001b[0m",
      "\u001b[0;31mTypeError\u001b[0m: 'set' object does not support indexing"
     ]
    }
   ],
   "source": [
    "x[1]"
   ]
  },
  {
   "cell_type": "code",
   "execution_count": 22,
   "metadata": {},
   "outputs": [
    {
     "name": "stdout",
     "output_type": "stream",
     "text": [
      "1\n",
      "2\n",
      "3\n",
      "4\n",
      "5\n"
     ]
    }
   ],
   "source": [
    "for i in x:\n",
    "    print(i)"
   ]
  },
  {
   "cell_type": "code",
   "execution_count": 23,
   "metadata": {},
   "outputs": [],
   "source": [
    "x.add(6)"
   ]
  },
  {
   "cell_type": "code",
   "execution_count": 24,
   "metadata": {},
   "outputs": [
    {
     "data": {
      "text/plain": [
       "{1, 2, 3, 4, 5, 6}"
      ]
     },
     "execution_count": 24,
     "metadata": {},
     "output_type": "execute_result"
    }
   ],
   "source": [
    "x"
   ]
  },
  {
   "cell_type": "code",
   "execution_count": 25,
   "metadata": {},
   "outputs": [],
   "source": [
    "x.add(0)"
   ]
  },
  {
   "cell_type": "code",
   "execution_count": 26,
   "metadata": {},
   "outputs": [
    {
     "data": {
      "text/plain": [
       "{0, 1, 2, 3, 4, 5, 6}"
      ]
     },
     "execution_count": 26,
     "metadata": {},
     "output_type": "execute_result"
    }
   ],
   "source": [
    "x"
   ]
  },
  {
   "cell_type": "code",
   "execution_count": 27,
   "metadata": {},
   "outputs": [],
   "source": [
    "x.add('yy')"
   ]
  },
  {
   "cell_type": "code",
   "execution_count": 28,
   "metadata": {},
   "outputs": [
    {
     "data": {
      "text/plain": [
       "{0, 1, 2, 3, 4, 5, 6, 'yy'}"
      ]
     },
     "execution_count": 28,
     "metadata": {},
     "output_type": "execute_result"
    }
   ],
   "source": [
    "x"
   ]
  },
  {
   "cell_type": "markdown",
   "metadata": {},
   "source": [
    "<a id=\"section6\"></a>\n",
    "#### Iterators + Generators\n",
    "All the data structure types we have seen so far are collection types and a key feature that they all share is the ability to iterate through their items. "
   ]
  },
  {
   "cell_type": "code",
   "execution_count": 38,
   "metadata": {},
   "outputs": [
    {
     "data": {
      "text/plain": [
       "(1, 2, 3)"
      ]
     },
     "execution_count": 38,
     "metadata": {},
     "output_type": "execute_result"
    }
   ],
   "source": [
    "x = [1,2,3,4,5]\n",
    "y = (1,2,3,4,5)\n",
    "z = {1,2,3,4,5}\n",
    "\n",
    "x1 = iter(x)\n",
    "y1 = iter(y)\n",
    "\n",
    "x1.__next__(), x1.__next__(), x1.__next__()"
   ]
  },
  {
   "cell_type": "markdown",
   "metadata": {},
   "source": [
    "Creating your own iterator class"
   ]
  },
  {
   "cell_type": "code",
   "execution_count": 46,
   "metadata": {},
   "outputs": [
    {
     "name": "stdout",
     "output_type": "stream",
     "text": [
      "1\n",
      "2\n",
      "3\n",
      "4\n",
      "5\n"
     ]
    },
    {
     "data": {
      "text/plain": [
       "<list_iterator at 0x11233afd0>"
      ]
     },
     "execution_count": 46,
     "metadata": {},
     "output_type": "execute_result"
    }
   ],
   "source": [
    "class MyList():\n",
    "    def __init__(self,valList):\n",
    "        self.valuesList = valList\n",
    "    \n",
    "    # There are 2 methods that are used to determine if a class can be iterated.\n",
    "    # __iter__ needs to return an iterator object\n",
    "    # An iterator object is one that implements the __next__ method\n",
    "    def __iter__(self):\n",
    "        # In this example we are just using the list data member are the iterator\n",
    "        return iter(self.valuesList)\n",
    "    \n",
    "x = MyList([1,2,3,4,5])\n",
    "for i in x:\n",
    "    print(i)\n",
    "x1 = iter(x)\n",
    "x1\n",
    "\n",
    "    "
   ]
  },
  {
   "cell_type": "code",
   "execution_count": 2,
   "metadata": {},
   "outputs": [
    {
     "name": "stdout",
     "output_type": "stream",
     "text": [
      "0\n",
      "1\n",
      "2\n",
      "3\n",
      "4\n",
      "5\n",
      "6\n",
      "7\n",
      "8\n",
      "9\n",
      "10\n"
     ]
    },
    {
     "data": {
      "text/plain": [
       "<__main__.MyList2 at 0x10e9fc940>"
      ]
     },
     "execution_count": 2,
     "metadata": {},
     "output_type": "execute_result"
    }
   ],
   "source": [
    "# Similar to the above but this time the class itself will implement the __next__ method\n",
    "class MyList2():\n",
    "    def __init__(self,high):\n",
    "        self.current = 0\n",
    "        self.high = high\n",
    "    \n",
    "    def __iter__(self):\n",
    "        # return the iterator object\n",
    "        return self\n",
    "    \n",
    "    def __next__(self): # Python 2: method used to be next()\n",
    "        if self.current > self.high:\n",
    "            raise StopIteration\n",
    "        else:\n",
    "            self.current += 1\n",
    "            return self.current - 1\n",
    "    \n",
    "x = MyList2(10)\n",
    "for i in x:\n",
    "    print(i)\n",
    "x1 = iter(x)\n",
    "x1\n"
   ]
  },
  {
   "cell_type": "markdown",
   "metadata": {},
   "source": [
    "Another way to easily define your own iterators is to create generator functions.\n",
    "These are functions that use the \"yeild\" keyword to return the next iteration value.\n",
    "\n",
    "Python was the first language I have encountered that has the type of capability"
   ]
  },
  {
   "cell_type": "code",
   "execution_count": 5,
   "metadata": {},
   "outputs": [],
   "source": [
    "def genEg1():\n",
    "    yield 1\n",
    "    yield 2\n",
    "    yield 3\n",
    "\n",
    "x = genEg1()\n"
   ]
  },
  {
   "cell_type": "code",
   "execution_count": 6,
   "metadata": {},
   "outputs": [
    {
     "name": "stdout",
     "output_type": "stream",
     "text": [
      "1\n",
      "2\n",
      "3\n"
     ]
    }
   ],
   "source": [
    "for i in x:\n",
    "    print(i)\n",
    "    \n"
   ]
  },
  {
   "cell_type": "code",
   "execution_count": 7,
   "metadata": {},
   "outputs": [],
   "source": [
    "# Let's now define a generator that returns an infinite list of numbers\n",
    "def genEg2():\n",
    "    count = 0\n",
    "    while True:\n",
    "        count+=1\n",
    "        yield count-1"
   ]
  },
  {
   "cell_type": "code",
   "execution_count": 8,
   "metadata": {},
   "outputs": [
    {
     "name": "stdout",
     "output_type": "stream",
     "text": [
      "0\n",
      "1\n",
      "2\n",
      "3\n",
      "4\n",
      "5\n",
      "6\n",
      "7\n",
      "8\n",
      "9\n"
     ]
    }
   ],
   "source": [
    "import itertools\n",
    "iter1 = genEg2()\n",
    "topn = itertools.islice(iter1, 10) \n",
    "\n",
    "for i in topn:\n",
    "    print(i)"
   ]
  },
  {
   "cell_type": "markdown",
   "metadata": {},
   "source": [
    "<a id=\"section6a\"></a>\n",
    "Coroutines are a specialist topic in python.\n",
    "See http://www.dabeaz.com/coroutines/Coroutines.pdf"
   ]
  },
  {
   "cell_type": "code",
   "execution_count": 85,
   "metadata": {},
   "outputs": [],
   "source": [
    "def grep(pattern):\n",
    " print(\"Looking for %s\" % pattern)\n",
    " while True:\n",
    "     line = (yield)\n",
    "     if pattern in line:\n",
    "         print(line,)\n",
    "     else:\n",
    "        print(\"Its not python!!\")"
   ]
  },
  {
   "cell_type": "markdown",
   "metadata": {},
   "source": [
    "It is the (yield) on the right of a variable assignment that makes this a coroutine"
   ]
  },
  {
   "cell_type": "code",
   "execution_count": 86,
   "metadata": {},
   "outputs": [],
   "source": [
    "g = grep(\"python\")"
   ]
  },
  {
   "cell_type": "code",
   "execution_count": 87,
   "metadata": {},
   "outputs": [
    {
     "name": "stdout",
     "output_type": "stream",
     "text": [
      "Looking for python\n"
     ]
    }
   ],
   "source": [
    "g.__next__()"
   ]
  },
  {
   "cell_type": "code",
   "execution_count": 88,
   "metadata": {},
   "outputs": [
    {
     "name": "stdout",
     "output_type": "stream",
     "text": [
      "Its not python!!\n"
     ]
    }
   ],
   "source": [
    "g.send(\"hello\")"
   ]
  },
  {
   "cell_type": "code",
   "execution_count": 89,
   "metadata": {},
   "outputs": [
    {
     "name": "stdout",
     "output_type": "stream",
     "text": [
      "Its not python!!\n"
     ]
    }
   ],
   "source": [
    "g.send(\"hello world\")"
   ]
  },
  {
   "cell_type": "code",
   "execution_count": 90,
   "metadata": {},
   "outputs": [
    {
     "name": "stdout",
     "output_type": "stream",
     "text": [
      "Somewhere in here is a python!!\n"
     ]
    }
   ],
   "source": [
    "g.send(\"Somewhere in here is a python!!\")"
   ]
  },
  {
   "cell_type": "code",
   "execution_count": 92,
   "metadata": {},
   "outputs": [],
   "source": [
    "g.close()"
   ]
  },
  {
   "cell_type": "code",
   "execution_count": 93,
   "metadata": {},
   "outputs": [
    {
     "ename": "StopIteration",
     "evalue": "",
     "output_type": "error",
     "traceback": [
      "\u001b[0;31m---------------------------------------------------------------------------\u001b[0m",
      "\u001b[0;31mStopIteration\u001b[0m                             Traceback (most recent call last)",
      "\u001b[0;32m<ipython-input-93-5b54bb22bbbf>\u001b[0m in \u001b[0;36m<module>\u001b[0;34m\u001b[0m\n\u001b[0;32m----> 1\u001b[0;31m \u001b[0mg\u001b[0m\u001b[0;34m.\u001b[0m\u001b[0msend\u001b[0m\u001b[0;34m(\u001b[0m\u001b[0;34m\"hhh\"\u001b[0m\u001b[0;34m)\u001b[0m\u001b[0;34m\u001b[0m\u001b[0;34m\u001b[0m\u001b[0m\n\u001b[0m",
      "\u001b[0;31mStopIteration\u001b[0m: "
     ]
    }
   ],
   "source": [
    "g.send(\"hhh\")"
   ]
  },
  {
   "cell_type": "markdown",
   "metadata": {},
   "source": [
    "Because coroutines need to be primed (i.e. you need to call __next__() on them) it is best to wrap them with a\n",
    "decorator"
   ]
  },
  {
   "cell_type": "code",
   "execution_count": 106,
   "metadata": {},
   "outputs": [],
   "source": [
    "def coroutine(func):\n",
    "     def start(*args,**kwargs):\n",
    "         cr = func(*args,**kwargs)\n",
    "         cr.__next__()\n",
    "         return cr\n",
    "     return start\n",
    "\n",
    "@coroutine\n",
    "def grep(pattern):\n",
    " print(\"Looking for %s\" % pattern)\n",
    " try:\n",
    "    while True:\n",
    "     line = (yield)\n",
    "     if pattern in line:\n",
    "         print(line,)\n",
    "     else:\n",
    "        print(\"Its not python!!\")\n",
    " except GeneratorExit:\n",
    "     print(\"Going away. Goodbye\")"
   ]
  },
  {
   "cell_type": "code",
   "execution_count": 107,
   "metadata": {},
   "outputs": [
    {
     "name": "stdout",
     "output_type": "stream",
     "text": [
      "Looking for python\n"
     ]
    }
   ],
   "source": [
    "\n",
    "g = grep(\"python\")"
   ]
  },
  {
   "cell_type": "code",
   "execution_count": 108,
   "metadata": {},
   "outputs": [
    {
     "name": "stdout",
     "output_type": "stream",
     "text": [
      "hello python\n"
     ]
    }
   ],
   "source": [
    "g.send(\"hello python\")"
   ]
  },
  {
   "cell_type": "code",
   "execution_count": 109,
   "metadata": {},
   "outputs": [
    {
     "name": "stdout",
     "output_type": "stream",
     "text": [
      "Its not python!!\n",
      "Going away. Goodbye\n"
     ]
    }
   ],
   "source": [
    "g.send(\"hello pddd\")\n",
    "g.close()"
   ]
  },
  {
   "cell_type": "markdown",
   "metadata": {},
   "source": [
    "How not to mix generators and coroutines!!!"
   ]
  },
  {
   "cell_type": "code",
   "execution_count": 111,
   "metadata": {},
   "outputs": [],
   "source": [
    "def countdown(n):\n",
    " print(\"Counting down from\", n)\n",
    " while n >= 0:\n",
    "     newvalue = (yield n)\n",
    "     # If a new value got sent in, reset n with it\n",
    "     if newvalue is not None:\n",
    "       n = newvalue\n",
    "     else:\n",
    "       n -= 1"
   ]
  },
  {
   "cell_type": "code",
   "execution_count": 114,
   "metadata": {},
   "outputs": [
    {
     "name": "stdout",
     "output_type": "stream",
     "text": [
      "Counting down from 5\n",
      "5\n",
      "2\n",
      "1\n",
      "0\n"
     ]
    }
   ],
   "source": [
    "c = countdown(5)\n",
    "for n in c:\n",
    " print(n)\n",
    " if n == 5:\n",
    "     c.send(3)"
   ]
  },
  {
   "cell_type": "code",
   "execution_count": 118,
   "metadata": {},
   "outputs": [],
   "source": [
    "def listeningGen2():\n",
    "    msg = \"Hello world!!\"\n",
    "    while True:\n",
    "        msg2 = (yield msg)\n",
    "        if msg2 is not None:\n",
    "            msg = msg2"
   ]
  },
  {
   "cell_type": "code",
   "execution_count": 122,
   "metadata": {},
   "outputs": [
    {
     "name": "stdout",
     "output_type": "stream",
     "text": [
      "Hello world!!\n",
      "0 - Hello World!!!\n",
      "1 - Hello World!!!\n",
      "2 - Hello World!!!\n",
      "3 - Hello World!!!\n"
     ]
    }
   ],
   "source": [
    "x = listeningGen2()\n",
    "for i in range(5):\n",
    "    print(x.__next__())\n",
    "    # NOTE: You need to have called __next__ before you can call send\n",
    "    x.send(\"{0} - Hello World!!!\".format(i))\n",
    "    "
   ]
  },
  {
   "cell_type": "code",
   "execution_count": 128,
   "metadata": {},
   "outputs": [
    {
     "data": {
      "text/plain": [
       "<Task pending coro=<main() running at <ipython-input-128-651a9c76ee9d>:2>>"
      ]
     },
     "execution_count": 128,
     "metadata": {},
     "output_type": "execute_result"
    },
    {
     "name": "stdout",
     "output_type": "stream",
     "text": [
      "hello\n",
      "world\n"
     ]
    }
   ],
   "source": [
    "import asyncio\n",
    "async def main():\n",
    "    print('hello')\n",
    "    await asyncio.sleep(1)\n",
    "    print('world')\n",
    "\n",
    "# With a standalone program you would call the following\n",
    "# asyncio.run(main())\n",
    "\n",
    "loop = asyncio.get_event_loop()\n",
    "loop.create_task(main())"
   ]
  },
  {
   "cell_type": "code",
   "execution_count": 133,
   "metadata": {},
   "outputs": [
    {
     "data": {
      "text/plain": [
       "<Task pending coro=<main2() running at <ipython-input-133-f7260f8fccc9>:8>>"
      ]
     },
     "execution_count": 133,
     "metadata": {},
     "output_type": "execute_result"
    },
    {
     "name": "stdout",
     "output_type": "stream",
     "text": [
      "started at 15:16:46\n",
      "hello\n",
      "world\n",
      "finished at 15:16:53\n"
     ]
    }
   ],
   "source": [
    "import asyncio\n",
    "import time\n",
    "\n",
    "async def say_after(delay, what):\n",
    "    await asyncio.sleep(delay)\n",
    "    print(what)\n",
    "\n",
    "async def main2():\n",
    "    print(f\"started at {time.strftime('%X')}\")\n",
    "\n",
    "    await say_after(5, 'hello')\n",
    "    await say_after(2, 'world')\n",
    "\n",
    "    print(f\"finished at {time.strftime('%X')}\")\n",
    "          \n",
    "loop = asyncio.get_event_loop()\n",
    "loop.create_task(main2())"
   ]
  },
  {
   "cell_type": "code",
   "execution_count": 136,
   "metadata": {},
   "outputs": [
    {
     "data": {
      "text/plain": [
       "<Task pending coro=<main3() running at <ipython-input-136-01bf02e67c13>:1>>"
      ]
     },
     "execution_count": 136,
     "metadata": {},
     "output_type": "execute_result"
    },
    {
     "name": "stdout",
     "output_type": "stream",
     "text": [
      "started at 15:24:33\n",
      "world\n",
      "hello\n",
      "finished at 15:24:38\n"
     ]
    }
   ],
   "source": [
    "async def main3():\n",
    "    print(f\"started at {time.strftime('%X')}\")\n",
    "\n",
    "    task1 = asyncio.create_task(\n",
    "        say_after(5, 'hello'))\n",
    "\n",
    "    task2 = asyncio.create_task(\n",
    "        say_after(2, 'world'))\n",
    "\n",
    "   \n",
    "    await task1\n",
    "    await task2\n",
    "\n",
    "    print(f\"finished at {time.strftime('%X')}\")\n",
    "          \n",
    "# loop = asyncio.get_event_loop()\n",
    "# loop.create_task(main3())\n",
    "asyncio.create_task(main3())"
   ]
  },
  {
   "cell_type": "code",
   "execution_count": 146,
   "metadata": {},
   "outputs": [
    {
     "data": {
      "text/plain": [
       "<Task pending coro=<doit1() running at <ipython-input-146-fd8345a15ea0>:1>>"
      ]
     },
     "execution_count": 146,
     "metadata": {},
     "output_type": "execute_result"
    }
   ],
   "source": [
    "async def doit1(obj):\n",
    "    while True:\n",
    "        while len(obj) == 0:\n",
    "            await asyncio.sleep(2)\n",
    "        x = obj.pop()\n",
    "        print(\"doit1 has received {0}\".format(x))\n",
    "\n",
    "x = []\n",
    "asyncio.create_task(doit1(x))"
   ]
  },
  {
   "cell_type": "code",
   "execution_count": 149,
   "metadata": {},
   "outputs": [
    {
     "name": "stdout",
     "output_type": "stream",
     "text": [
      "doit1 has received YYY\n",
      "doit1 has received Hello Mark\n",
      "doit1 has received hhh\n"
     ]
    }
   ],
   "source": [
    "x.append(\"hhh\")\n",
    "x.append(\"Hello Mark\")\n",
    "x.append(\"YYY\")"
   ]
  },
  {
   "cell_type": "code",
   "execution_count": 150,
   "metadata": {},
   "outputs": [
    {
     "name": "stdout",
     "output_type": "stream",
     "text": [
      "doit1 has received 9\n",
      "doit1 has received 8\n",
      "doit1 has received 7\n",
      "doit1 has received 6\n",
      "doit1 has received 5\n",
      "doit1 has received 4\n",
      "doit1 has received 3\n",
      "doit1 has received 2\n",
      "doit1 has received 1\n"
     ]
    }
   ],
   "source": [
    "x.extend([1,2,3,4,5,6,7,8,9])"
   ]
  },
  {
   "cell_type": "code",
   "execution_count": 156,
   "metadata": {},
   "outputs": [],
   "source": [
    "class TestIt:\n",
    "    \n",
    "    def __init__(self):\n",
    "        self.data = []\n",
    "    \n",
    "    def add(self,x):\n",
    "        self.data.append(x)\n",
    "        \n",
    "    async def doit2(self):\n",
    "        while True:\n",
    "            while len(self.data) == 0:\n",
    "                await asyncio.sleep(2)\n",
    "            x = self.data.pop()\n",
    "            print(\"doit2 has received {0}\".format(x))\n",
    "            \n",
    "    def start(self):\n",
    "        asyncio.create_task(self.doit2())"
   ]
  },
  {
   "cell_type": "code",
   "execution_count": 157,
   "metadata": {},
   "outputs": [],
   "source": [
    "y = TestIt()"
   ]
  },
  {
   "cell_type": "code",
   "execution_count": 160,
   "metadata": {},
   "outputs": [
    {
     "name": "stdout",
     "output_type": "stream",
     "text": [
      "doit2 has received 2\n",
      "doit2 has received 1\n"
     ]
    }
   ],
   "source": [
    "y.add(1)\n",
    "y.add(2)"
   ]
  },
  {
   "cell_type": "code",
   "execution_count": 159,
   "metadata": {},
   "outputs": [
    {
     "name": "stdout",
     "output_type": "stream",
     "text": [
      "doit2 has received 1\n"
     ]
    }
   ],
   "source": [
    "y.start()"
   ]
  },
  {
   "cell_type": "code",
   "execution_count": 161,
   "metadata": {},
   "outputs": [
    {
     "name": "stdout",
     "output_type": "stream",
     "text": [
      "doit2 has received 3\n"
     ]
    }
   ],
   "source": [
    "y.add(3)"
   ]
  },
  {
   "cell_type": "markdown",
   "metadata": {},
   "source": [
    "<a id=\"section7\"></a>\n",
    "## Strings + Unicode\n",
    "Strings in Python3 are now always stored as a collection of unicode codes"
   ]
  },
  {
   "cell_type": "code",
   "execution_count": 163,
   "metadata": {},
   "outputs": [
    {
     "name": "stdout",
     "output_type": "stream",
     "text": [
      "This is a string\n",
      "This is also a string\n"
     ]
    }
   ],
   "source": [
    "str1 = \"This is a string\"\n",
    "str2 = 'This is also a string'\n",
    "print(str1)\n",
    "print(str2)"
   ]
  },
  {
   "cell_type": "code",
   "execution_count": 165,
   "metadata": {},
   "outputs": [
    {
     "name": "stdout",
     "output_type": "stream",
     "text": [
      "\n",
      "This is a multi line\n",
      "string 111111\n",
      "2222222\n",
      "3333333\n",
      "\n"
     ]
    }
   ],
   "source": [
    "str3 = '''\n",
    "This is a multi line\n",
    "string 111111\n",
    "2222222\n",
    "3333333\n",
    "'''\n",
    "print(str3)"
   ]
  },
  {
   "cell_type": "code",
   "execution_count": 166,
   "metadata": {},
   "outputs": [
    {
     "name": "stdout",
     "output_type": "stream",
     "text": [
      "hi\n"
     ]
    }
   ],
   "source": [
    "'''\n",
    "Multi line string on its own is a comment\n",
    "'''\n",
    "print(\"hi\")"
   ]
  },
  {
   "cell_type": "code",
   "execution_count": 176,
   "metadata": {},
   "outputs": [
    {
     "name": "stdout",
     "output_type": "stream",
     "text": [
      "0 = \u0000 \n",
      "1 = \u0001 2 = \u0002 3 = \u0003 4 = \u0004 5 = \u0005 6 = \u0006 7 = \u0007 8 = \b 9 = \t 10 = \n",
      " \n",
      "11 = \u000b",
      " 12 = \f",
      " 13 = \r",
      " 14 = \u000e 15 = \u000f 16 = \u0010 17 = \u0011 18 = \u0012 19 = \u0013 20 = \u0014 \n",
      "21 = \u0015 22 = \u0016 23 = \u0017 24 = \u0018 25 = \u0019 26 = \u001a 27 = \u001b 28 = \u001c",
      " 29 = \u001d",
      " 30 = \u001e",
      " \n",
      "31 = \u001f 32 =   33 = ! 34 = \" 35 = # 36 = $ 37 = % 38 = & 39 = ' 40 = ( \n",
      "41 = ) 42 = * 43 = + 44 = , 45 = - 46 = . 47 = / 48 = 0 49 = 1 50 = 2 \n",
      "51 = 3 52 = 4 53 = 5 54 = 6 55 = 7 56 = 8 57 = 9 58 = : 59 = ; 60 = < \n",
      "61 = = 62 = > 63 = ? 64 = @ 65 = A 66 = B 67 = C 68 = D 69 = E 70 = F \n",
      "71 = G 72 = H 73 = I 74 = J 75 = K 76 = L 77 = M 78 = N 79 = O 80 = P \n",
      "81 = Q 82 = R 83 = S 84 = T 85 = U 86 = V 87 = W 88 = X 89 = Y 90 = Z \n",
      "91 = [ 92 = \\ 93 = ] 94 = ^ 95 = _ 96 = ` 97 = a 98 = b 99 = c 100 = d \n",
      "101 = e 102 = f 103 = g 104 = h 105 = i 106 = j 107 = k 108 = l 109 = m 110 = n \n",
      "111 = o 112 = p 113 = q 114 = r 115 = s 116 = t 117 = u 118 = v 119 = w 120 = x \n",
      "121 = y 122 = z 123 = { 124 = | 125 = } 126 = ~ 127 =  128 =  129 =  130 =  \n",
      "131 =  132 =  133 = ",
      " 134 =  135 =  136 =  137 =  138 =  139 =  140 =  \n",
      "141 =  142 =  143 =  144 =  145 =  146 =  147 =  148 =  149 =  150 =  \n",
      "151 =  152 =  153 =  154 =  155 =  156 =  157 =  158 =  159 =  160 =   \n",
      "161 = ¡ 162 = ¢ 163 = £ 164 = ¤ 165 = ¥ 166 = ¦ 167 = § 168 = ¨ 169 = © 170 = ª \n",
      "171 = « 172 = ¬ 173 = ­ 174 = ® 175 = ¯ 176 = ° 177 = ± 178 = ² 179 = ³ 180 = ´ \n",
      "181 = µ 182 = ¶ 183 = · 184 = ¸ 185 = ¹ 186 = º 187 = » 188 = ¼ 189 = ½ 190 = ¾ \n",
      "191 = ¿ 192 = À 193 = Á 194 = Â 195 = Ã 196 = Ä 197 = Å 198 = Æ 199 = Ç 200 = È \n",
      "201 = É 202 = Ê 203 = Ë 204 = Ì 205 = Í 206 = Î 207 = Ï 208 = Ð 209 = Ñ 210 = Ò \n",
      "211 = Ó 212 = Ô 213 = Õ 214 = Ö 215 = × 216 = Ø 217 = Ù 218 = Ú 219 = Û 220 = Ü \n",
      "221 = Ý 222 = Þ 223 = ß 224 = à 225 = á 226 = â 227 = ã 228 = ä 229 = å 230 = æ \n",
      "231 = ç 232 = è 233 = é 234 = ê 235 = ë 236 = ì 237 = í 238 = î 239 = ï 240 = ð \n",
      "241 = ñ 242 = ò 243 = ó 244 = ô 245 = õ 246 = ö 247 = ÷ 248 = ø 249 = ù 250 = ú \n",
      "251 = û 252 = ü 253 = ý 254 = þ 255 = ÿ 256 = Ā 257 = ā 258 = Ă 259 = ă 260 = Ą \n",
      "261 = ą 262 = Ć 263 = ć 264 = Ĉ 265 = ĉ 266 = Ċ 267 = ċ 268 = Č 269 = č 270 = Ď \n",
      "271 = ď 272 = Đ 273 = đ 274 = Ē 275 = ē 276 = Ĕ 277 = ĕ 278 = Ė 279 = ė 280 = Ę \n",
      "281 = ę 282 = Ě 283 = ě 284 = Ĝ 285 = ĝ 286 = Ğ 287 = ğ 288 = Ġ 289 = ġ 290 = Ģ \n",
      "291 = ģ 292 = Ĥ 293 = ĥ 294 = Ħ 295 = ħ 296 = Ĩ 297 = ĩ 298 = Ī 299 = ī 300 = Ĭ \n",
      "301 = ĭ 302 = Į 303 = į 304 = İ 305 = ı 306 = Ĳ 307 = ĳ 308 = Ĵ 309 = ĵ 310 = Ķ \n",
      "311 = ķ 312 = ĸ 313 = Ĺ 314 = ĺ 315 = Ļ 316 = ļ 317 = Ľ 318 = ľ 319 = Ŀ 320 = ŀ \n",
      "321 = Ł 322 = ł 323 = Ń 324 = ń 325 = Ņ 326 = ņ 327 = Ň 328 = ň 329 = ŉ 330 = Ŋ \n",
      "331 = ŋ 332 = Ō 333 = ō 334 = Ŏ 335 = ŏ 336 = Ő 337 = ő 338 = Œ 339 = œ 340 = Ŕ \n",
      "341 = ŕ 342 = Ŗ 343 = ŗ 344 = Ř 345 = ř 346 = Ś 347 = ś 348 = Ŝ 349 = ŝ 350 = Ş \n",
      "351 = ş 352 = Š 353 = š 354 = Ţ 355 = ţ 356 = Ť 357 = ť 358 = Ŧ 359 = ŧ 360 = Ũ \n",
      "361 = ũ 362 = Ū 363 = ū 364 = Ŭ 365 = ŭ 366 = Ů 367 = ů 368 = Ű 369 = ű 370 = Ų \n",
      "371 = ų 372 = Ŵ 373 = ŵ 374 = Ŷ 375 = ŷ 376 = Ÿ 377 = Ź 378 = ź 379 = Ż 380 = ż \n",
      "381 = Ž 382 = ž 383 = ſ 384 = ƀ 385 = Ɓ 386 = Ƃ 387 = ƃ 388 = Ƅ 389 = ƅ 390 = Ɔ \n",
      "391 = Ƈ 392 = ƈ 393 = Ɖ 394 = Ɗ 395 = Ƌ 396 = ƌ 397 = ƍ 398 = Ǝ 399 = Ə 400 = Ɛ \n",
      "401 = Ƒ 402 = ƒ 403 = Ɠ 404 = Ɣ 405 = ƕ 406 = Ɩ 407 = Ɨ 408 = Ƙ 409 = ƙ 410 = ƚ \n",
      "411 = ƛ 412 = Ɯ 413 = Ɲ 414 = ƞ 415 = Ɵ 416 = Ơ 417 = ơ 418 = Ƣ 419 = ƣ 420 = Ƥ \n",
      "421 = ƥ 422 = Ʀ 423 = Ƨ 424 = ƨ 425 = Ʃ 426 = ƪ 427 = ƫ 428 = Ƭ 429 = ƭ 430 = Ʈ \n",
      "431 = Ư 432 = ư 433 = Ʊ 434 = Ʋ 435 = Ƴ 436 = ƴ 437 = Ƶ 438 = ƶ 439 = Ʒ 440 = Ƹ \n",
      "441 = ƹ 442 = ƺ 443 = ƻ 444 = Ƽ 445 = ƽ 446 = ƾ 447 = ƿ 448 = ǀ 449 = ǁ 450 = ǂ \n",
      "451 = ǃ 452 = Ǆ 453 = ǅ 454 = ǆ 455 = Ǉ 456 = ǈ 457 = ǉ 458 = Ǌ 459 = ǋ 460 = ǌ \n",
      "461 = Ǎ 462 = ǎ 463 = Ǐ 464 = ǐ 465 = Ǒ 466 = ǒ 467 = Ǔ 468 = ǔ 469 = Ǖ 470 = ǖ \n",
      "471 = Ǘ 472 = ǘ 473 = Ǚ 474 = ǚ 475 = Ǜ 476 = ǜ 477 = ǝ 478 = Ǟ 479 = ǟ 480 = Ǡ \n",
      "481 = ǡ 482 = Ǣ 483 = ǣ 484 = Ǥ 485 = ǥ 486 = Ǧ 487 = ǧ 488 = Ǩ 489 = ǩ 490 = Ǫ \n",
      "491 = ǫ 492 = Ǭ 493 = ǭ 494 = Ǯ 495 = ǯ 496 = ǰ 497 = Ǳ 498 = ǲ 499 = ǳ "
     ]
    }
   ],
   "source": [
    "for ch in range(500):\n",
    "    print(\"{0} = {1}\".format(ch, chr(ch)), end =\" \")\n",
    "    if ch % 10 == 0:\n",
    "        print(\"\")"
   ]
  },
  {
   "cell_type": "markdown",
   "metadata": {},
   "source": [
    "<a id=\"section8\"></a>\n",
    "## Functions\n",
    "We have already used and seen functions above but this  section will be looking at more advanced topics"
   ]
  },
  {
   "cell_type": "code",
   "execution_count": 1,
   "metadata": {},
   "outputs": [],
   "source": [
    "def func1(*args):\n",
    "    print(len(args))\n",
    "    print(args)"
   ]
  },
  {
   "cell_type": "code",
   "execution_count": 2,
   "metadata": {},
   "outputs": [
    {
     "name": "stdout",
     "output_type": "stream",
     "text": [
      "5\n",
      "(1, 2, 3, 4, 5)\n"
     ]
    }
   ],
   "source": [
    "func1(1,2,3,4,5)"
   ]
  },
  {
   "cell_type": "code",
   "execution_count": 3,
   "metadata": {},
   "outputs": [
    {
     "ename": "TypeError",
     "evalue": "func1() got an unexpected keyword argument 'key1'",
     "output_type": "error",
     "traceback": [
      "\u001b[0;31m---------------------------------------------------------------------------\u001b[0m",
      "\u001b[0;31mTypeError\u001b[0m                                 Traceback (most recent call last)",
      "\u001b[0;32m<ipython-input-3-32a60a72807d>\u001b[0m in \u001b[0;36m<module>\u001b[0;34m\u001b[0m\n\u001b[0;32m----> 1\u001b[0;31m \u001b[0mfunc1\u001b[0m\u001b[0;34m(\u001b[0m\u001b[0mkey1\u001b[0m\u001b[0;34m=\u001b[0m\u001b[0;34m'this'\u001b[0m\u001b[0;34m)\u001b[0m\u001b[0;34m\u001b[0m\u001b[0;34m\u001b[0m\u001b[0m\n\u001b[0m",
      "\u001b[0;31mTypeError\u001b[0m: func1() got an unexpected keyword argument 'key1'"
     ]
    }
   ],
   "source": [
    "func1(key1='this')"
   ]
  },
  {
   "cell_type": "code",
   "execution_count": 4,
   "metadata": {},
   "outputs": [],
   "source": [
    "def func2(*args,**kargs):\n",
    "    print(\"ordinary args: {0}\".format(len(args)))\n",
    "    print(\"keyed args: {0}\".format(len(kargs)))\n",
    "    print(args)\n",
    "    print(kargs)"
   ]
  },
  {
   "cell_type": "code",
   "execution_count": 5,
   "metadata": {},
   "outputs": [
    {
     "name": "stdout",
     "output_type": "stream",
     "text": [
      "ordinary args: 4\n",
      "keyed args: 1\n",
      "(1, 2, 3, 4)\n",
      "{'key1': 'this'}\n"
     ]
    }
   ],
   "source": [
    "func2(1,2,3,4,key1='this')"
   ]
  },
  {
   "cell_type": "code",
   "execution_count": 199,
   "metadata": {},
   "outputs": [],
   "source": [
    "def func3(*args,**kargs):\n",
    "    # when propagating arguments to another function important that you * and **\n",
    "    func2(*args,**kargs)"
   ]
  },
  {
   "cell_type": "code",
   "execution_count": 200,
   "metadata": {},
   "outputs": [
    {
     "name": "stdout",
     "output_type": "stream",
     "text": [
      "ordinary args: 5\n",
      "keyed args: 1\n",
      "(1, 2, 3, 4, 5)\n",
      "{'key1': 'fred'}\n"
     ]
    }
   ],
   "source": [
    "func3(1,2,3,4,5, key1='fred')"
   ]
  },
  {
   "cell_type": "code",
   "execution_count": 201,
   "metadata": {},
   "outputs": [],
   "source": [
    "def func4(x):\n",
    "    print(\"func4 called with {0}\".format(x))"
   ]
  },
  {
   "cell_type": "code",
   "execution_count": 207,
   "metadata": {},
   "outputs": [
    {
     "data": {
      "text/plain": [
       "<map at 0x1131ecb00>"
      ]
     },
     "execution_count": 207,
     "metadata": {},
     "output_type": "execute_result"
    }
   ],
   "source": [
    "# map applies the func passed as 1st argument to each of the items in the collection passed as 2nd argument\n",
    "# But it is implemented as a generator and only works on demand as you iterate through the map\n",
    "m1 = map(func4,[1,2,3,4,5,6,7])\n",
    "m1"
   ]
  },
  {
   "cell_type": "code",
   "execution_count": 208,
   "metadata": {},
   "outputs": [
    {
     "name": "stdout",
     "output_type": "stream",
     "text": [
      "func4 called with 1\n",
      "func4 called with 2\n",
      "func4 called with 3\n",
      "func4 called with 4\n",
      "func4 called with 5\n",
      "func4 called with 6\n",
      "func4 called with 7\n"
     ]
    }
   ],
   "source": [
    "# To force the map immediately convert to a list\n",
    "list1 = list(m1)"
   ]
  },
  {
   "cell_type": "code",
   "execution_count": 211,
   "metadata": {},
   "outputs": [
    {
     "data": {
      "text/plain": [
       "<map at 0x1131ecf60>"
      ]
     },
     "execution_count": 211,
     "metadata": {},
     "output_type": "execute_result"
    }
   ],
   "source": [
    "# Testing that map works on all iterators/collections\n",
    "m1 = map(func4,{1.,2.,3.,4.,5.,6.,7.})\n",
    "m1"
   ]
  },
  {
   "cell_type": "code",
   "execution_count": 212,
   "metadata": {},
   "outputs": [
    {
     "name": "stdout",
     "output_type": "stream",
     "text": [
      "func4 called with 1.0\n",
      "func4 called with 2.0\n",
      "func4 called with 3.0\n",
      "func4 called with 4.0\n",
      "func4 called with 5.0\n",
      "func4 called with 6.0\n",
      "func4 called with 7.0\n"
     ]
    }
   ],
   "source": [
    "list1 = list(m1)"
   ]
  },
  {
   "cell_type": "code",
   "execution_count": 215,
   "metadata": {},
   "outputs": [
    {
     "data": {
      "text/plain": [
       "<map at 0x1131ece10>"
      ]
     },
     "execution_count": 215,
     "metadata": {},
     "output_type": "execute_result"
    }
   ],
   "source": [
    "m1 = map(func4,iter({21.,22.,23.,24.,25.,26.,27.}))\n",
    "m1"
   ]
  },
  {
   "cell_type": "code",
   "execution_count": 216,
   "metadata": {},
   "outputs": [
    {
     "name": "stdout",
     "output_type": "stream",
     "text": [
      "func4 called with 21.0\n",
      "func4 called with 22.0\n",
      "func4 called with 23.0\n",
      "func4 called with 24.0\n",
      "func4 called with 25.0\n",
      "func4 called with 26.0\n",
      "func4 called with 27.0\n"
     ]
    }
   ],
   "source": [
    "list1 = list(m1)"
   ]
  },
  {
   "cell_type": "markdown",
   "metadata": {},
   "source": [
    "First use of Lambdas in this notebook"
   ]
  },
  {
   "cell_type": "code",
   "execution_count": 217,
   "metadata": {},
   "outputs": [
    {
     "name": "stdout",
     "output_type": "stream",
     "text": [
      "[0, 0]\n",
      "[1, 2]\n",
      "[4, 4]\n",
      "[9, 6]\n",
      "[16, 8]\n"
     ]
    }
   ],
   "source": [
    "def multiply(x):\n",
    "    return (x*x)\n",
    "def add(x):\n",
    "    return (x+x)\n",
    "\n",
    "funcs = [multiply, add]\n",
    "for i in range(5):\n",
    "    value = list(map(lambda x: x(i), funcs))\n",
    "    print(value)"
   ]
  },
  {
   "cell_type": "code",
   "execution_count": 222,
   "metadata": {},
   "outputs": [],
   "source": [
    "# lambda normally only have a single statement in their body\n",
    "# But you can make into a list to have multiple statements executed\n",
    "func1 = lambda x: [print(1),print(x),print(2)]"
   ]
  },
  {
   "cell_type": "code",
   "execution_count": 223,
   "metadata": {},
   "outputs": [
    {
     "name": "stdout",
     "output_type": "stream",
     "text": [
      "1\n",
      "4\n",
      "2\n"
     ]
    },
    {
     "data": {
      "text/plain": [
       "{None}"
      ]
     },
     "execution_count": 223,
     "metadata": {},
     "output_type": "execute_result"
    }
   ],
   "source": [
    "func1(4)"
   ]
  },
  {
   "cell_type": "code",
   "execution_count": 224,
   "metadata": {},
   "outputs": [],
   "source": [
    "# I like the {} set version best\n",
    "func1 = lambda x: {print(1),print(x),print(2)}"
   ]
  },
  {
   "cell_type": "code",
   "execution_count": 225,
   "metadata": {},
   "outputs": [
    {
     "name": "stdout",
     "output_type": "stream",
     "text": [
      "1\n",
      "4\n",
      "2\n"
     ]
    },
    {
     "data": {
      "text/plain": [
       "{None}"
      ]
     },
     "execution_count": 225,
     "metadata": {},
     "output_type": "execute_result"
    }
   ],
   "source": [
    "func1(4)"
   ]
  },
  {
   "cell_type": "code",
   "execution_count": 231,
   "metadata": {},
   "outputs": [
    {
     "data": {
      "text/plain": [
       "<filter at 0x1126f2c88>"
      ]
     },
     "execution_count": 231,
     "metadata": {},
     "output_type": "execute_result"
    }
   ],
   "source": [
    "x = range(20)\n",
    "filter1 = filter(lambda i: i%2==0, x)\n",
    "filter1"
   ]
  },
  {
   "cell_type": "code",
   "execution_count": 234,
   "metadata": {},
   "outputs": [
    {
     "name": "stdout",
     "output_type": "stream",
     "text": [
      "[]\n"
     ]
    }
   ],
   "source": [
    "list1=list(filter1)\n",
    "print(list1)"
   ]
  },
  {
   "cell_type": "code",
   "execution_count": 238,
   "metadata": {},
   "outputs": [
    {
     "name": "stdout",
     "output_type": "stream",
     "text": [
      "0\n",
      "2\n",
      "4\n",
      "6\n",
      "8\n",
      "10\n",
      "12\n",
      "14\n",
      "16\n",
      "18\n"
     ]
    }
   ],
   "source": [
    "filter1 = filter(lambda i: i%2==0, x)\n",
    "for it in filter1:\n",
    "    print(it)"
   ]
  },
  {
   "cell_type": "code",
   "execution_count": 240,
   "metadata": {},
   "outputs": [],
   "source": [
    "from functools import reduce\n",
    "product = reduce((lambda x, y: x * y), [1, 2, 3, 4])"
   ]
  },
  {
   "cell_type": "code",
   "execution_count": 241,
   "metadata": {},
   "outputs": [
    {
     "data": {
      "text/plain": [
       "24"
      ]
     },
     "execution_count": 241,
     "metadata": {},
     "output_type": "execute_result"
    }
   ],
   "source": [
    "product"
   ]
  },
  {
   "cell_type": "code",
   "execution_count": 244,
   "metadata": {},
   "outputs": [
    {
     "data": {
      "text/plain": [
       "55"
      ]
     },
     "execution_count": 244,
     "metadata": {},
     "output_type": "execute_result"
    }
   ],
   "source": [
    "addition = reduce((lambda x, y: x + y), range(11))\n",
    "addition"
   ]
  },
  {
   "cell_type": "code",
   "execution_count": 245,
   "metadata": {},
   "outputs": [
    {
     "name": "stdout",
     "output_type": "stream",
     "text": [
      "x= 0\n",
      "y= 1\n",
      "x= 1\n",
      "y= 2\n",
      "x= 3\n",
      "y= 3\n",
      "x= 6\n",
      "y= 4\n",
      "x= 10\n",
      "y= 5\n",
      "x= 15\n",
      "y= 6\n",
      "x= 21\n",
      "y= 7\n",
      "x= 28\n",
      "y= 8\n",
      "x= 36\n",
      "y= 9\n",
      "x= 45\n",
      "y= 10\n"
     ]
    },
    {
     "data": {
      "text/plain": [
       "55"
      ]
     },
     "execution_count": 245,
     "metadata": {},
     "output_type": "execute_result"
    }
   ],
   "source": [
    "def addFunc1(x,y):\n",
    "    print(\"x=\",x)\n",
    "    print(\"y=\",y)\n",
    "    return x+y\n",
    "\n",
    "addition = reduce(addFunc1, range(11))\n",
    "addition"
   ]
  },
  {
   "cell_type": "markdown",
   "metadata": {},
   "source": [
    "### Python supports closures - which are a key functional programming concept\n",
    "We have already used these above to define decorators BUT lets explore in more detail"
   ]
  },
  {
   "cell_type": "code",
   "execution_count": 246,
   "metadata": {},
   "outputs": [],
   "source": [
    "def funcGen(list1):\n",
    "    def innerFunc(key1):\n",
    "        # list1 is accessible inside the inner function\n",
    "        return list1.index(key1)\n",
    "    return innerFunc\n",
    "\n"
   ]
  },
  {
   "cell_type": "code",
   "execution_count": 252,
   "metadata": {},
   "outputs": [
    {
     "data": {
      "text/plain": [
       "0"
      ]
     },
     "execution_count": 252,
     "metadata": {},
     "output_type": "execute_result"
    }
   ],
   "source": [
    "func2 = funcGen([1,2,3,4,5])\n",
    "func2(1)"
   ]
  },
  {
   "cell_type": "code",
   "execution_count": 253,
   "metadata": {},
   "outputs": [],
   "source": [
    "def func3(x,y):\n",
    "    return x*y"
   ]
  },
  {
   "cell_type": "code",
   "execution_count": 255,
   "metadata": {},
   "outputs": [],
   "source": [
    "from functools import partial\n",
    "f2 = partial(func3,2)"
   ]
  },
  {
   "cell_type": "code",
   "execution_count": 256,
   "metadata": {},
   "outputs": [
    {
     "data": {
      "text/plain": [
       "functools.partial(<function func3 at 0x1131757b8>, 2)"
      ]
     },
     "execution_count": 256,
     "metadata": {},
     "output_type": "execute_result"
    }
   ],
   "source": [
    "f2"
   ]
  },
  {
   "cell_type": "code",
   "execution_count": 258,
   "metadata": {},
   "outputs": [
    {
     "name": "stdout",
     "output_type": "stream",
     "text": [
      "12\n"
     ]
    }
   ],
   "source": [
    "print(f2(6))"
   ]
  },
  {
   "cell_type": "code",
   "execution_count": 259,
   "metadata": {},
   "outputs": [],
   "source": [
    "f2 = partial(func3,2,7)"
   ]
  },
  {
   "cell_type": "code",
   "execution_count": 260,
   "metadata": {},
   "outputs": [
    {
     "data": {
      "text/plain": [
       "functools.partial(<function func3 at 0x1131757b8>, 2, 7)"
      ]
     },
     "execution_count": 260,
     "metadata": {},
     "output_type": "execute_result"
    }
   ],
   "source": [
    "f2"
   ]
  },
  {
   "cell_type": "code",
   "execution_count": 261,
   "metadata": {},
   "outputs": [
    {
     "name": "stdout",
     "output_type": "stream",
     "text": [
      "14\n"
     ]
    }
   ],
   "source": [
    "print(f2())"
   ]
  },
  {
   "cell_type": "code",
   "execution_count": 262,
   "metadata": {},
   "outputs": [],
   "source": [
    "f2 = partial(func3,2,7,8,9)"
   ]
  },
  {
   "cell_type": "code",
   "execution_count": 263,
   "metadata": {},
   "outputs": [
    {
     "ename": "TypeError",
     "evalue": "func3() takes 2 positional arguments but 4 were given",
     "output_type": "error",
     "traceback": [
      "\u001b[0;31m---------------------------------------------------------------------------\u001b[0m",
      "\u001b[0;31mTypeError\u001b[0m                                 Traceback (most recent call last)",
      "\u001b[0;32m<ipython-input-263-6b12626e0afd>\u001b[0m in \u001b[0;36m<module>\u001b[0;34m\u001b[0m\n\u001b[0;32m----> 1\u001b[0;31m \u001b[0mprint\u001b[0m\u001b[0;34m(\u001b[0m\u001b[0mf2\u001b[0m\u001b[0;34m(\u001b[0m\u001b[0;34m)\u001b[0m\u001b[0;34m)\u001b[0m\u001b[0;34m\u001b[0m\u001b[0;34m\u001b[0m\u001b[0m\n\u001b[0m",
      "\u001b[0;31mTypeError\u001b[0m: func3() takes 2 positional arguments but 4 were given"
     ]
    }
   ],
   "source": [
    "print(f2())"
   ]
  },
  {
   "cell_type": "code",
   "execution_count": 264,
   "metadata": {},
   "outputs": [],
   "source": [
    "f2 = partial(funcGen,[1,2,3,4,5],3)"
   ]
  },
  {
   "cell_type": "code",
   "execution_count": 266,
   "metadata": {},
   "outputs": [
    {
     "ename": "TypeError",
     "evalue": "funcGen() takes 1 positional argument but 2 were given",
     "output_type": "error",
     "traceback": [
      "\u001b[0;31m---------------------------------------------------------------------------\u001b[0m",
      "\u001b[0;31mTypeError\u001b[0m                                 Traceback (most recent call last)",
      "\u001b[0;32m<ipython-input-266-6b12626e0afd>\u001b[0m in \u001b[0;36m<module>\u001b[0;34m\u001b[0m\n\u001b[0;32m----> 1\u001b[0;31m \u001b[0mprint\u001b[0m\u001b[0;34m(\u001b[0m\u001b[0mf2\u001b[0m\u001b[0;34m(\u001b[0m\u001b[0;34m)\u001b[0m\u001b[0;34m)\u001b[0m\u001b[0;34m\u001b[0m\u001b[0;34m\u001b[0m\u001b[0m\n\u001b[0m",
      "\u001b[0;31mTypeError\u001b[0m: funcGen() takes 1 positional argument but 2 were given"
     ]
    }
   ],
   "source": [
    "print(f2())"
   ]
  },
  {
   "cell_type": "code",
   "execution_count": 267,
   "metadata": {},
   "outputs": [],
   "source": [
    "f3 = partial(map,(lambda x : x*2))"
   ]
  },
  {
   "cell_type": "code",
   "execution_count": 270,
   "metadata": {},
   "outputs": [
    {
     "name": "stdout",
     "output_type": "stream",
     "text": [
      "[2, 4, 6, 8]\n"
     ]
    }
   ],
   "source": [
    "print (list(f3([1,2,3,4])))"
   ]
  },
  {
   "cell_type": "markdown",
   "metadata": {},
   "source": [
    "Test to see if mutable objects (like lists + dictionaries) are copied when passed to functions\n",
    "Preety certain they are not but let's test to be certain"
   ]
  },
  {
   "cell_type": "code",
   "execution_count": 271,
   "metadata": {},
   "outputs": [
    {
     "name": "stdout",
     "output_type": "stream",
     "text": [
      "[1, 2, 3, 4, 'Added Item']\n"
     ]
    }
   ],
   "source": [
    "def funcWithListParam(list1):\n",
    "    list1.append(\"Added Item\")\n",
    "    \n",
    "x = [1,2,3,4]\n",
    "funcWithListParam(x)\n",
    "print(x)"
   ]
  },
  {
   "cell_type": "code",
   "execution_count": 272,
   "metadata": {},
   "outputs": [
    {
     "name": "stdout",
     "output_type": "stream",
     "text": [
      "[1, 2, 3, 4]\n"
     ]
    }
   ],
   "source": [
    "def funcWithListParam2(list1):\n",
    "    _list1 = list(list1) # shallow copy the list\n",
    "    _list1.append(\"Added Item\")\n",
    "    \n",
    "x = [1,2,3,4]\n",
    "funcWithListParam2(x)\n",
    "print(x)"
   ]
  },
  {
   "cell_type": "markdown",
   "metadata": {},
   "source": [
    "The above experiments raise the question of whether to copy parameters or not.\n",
    "Searching this topic I came across https://stackoverflow.com/questions/7379991/python-unintentionally-modifying-parameters-passed-into-a-function \n",
    "which has a number of interesting conceptd that I had not encountered before:\n",
    "* dictionary comprehension\n",
    "* Meta classes"
   ]
  },
  {
   "cell_type": "markdown",
   "metadata": {},
   "source": [
    "Little detour - Converting a dictionary to JSON"
   ]
  },
  {
   "cell_type": "code",
   "execution_count": 1,
   "metadata": {},
   "outputs": [
    {
     "data": {
      "text/plain": [
       "'{\"f1\": 1, \"f2\": 2}'"
      ]
     },
     "execution_count": 1,
     "metadata": {},
     "output_type": "execute_result"
    }
   ],
   "source": [
    "import json\n",
    "\n",
    "d1 = { 'f1':1,'f2':2}\n",
    "jsonarray = json.dumps(d1)\n",
    "jsonarray"
   ]
  },
  {
   "cell_type": "markdown",
   "metadata": {},
   "source": [
    "More vararg and karg experiments"
   ]
  },
  {
   "cell_type": "code",
   "execution_count": 2,
   "metadata": {},
   "outputs": [],
   "source": [
    "def f1(*args,**kargs):\n",
    "    print(args)\n",
    "    print(kargs)\n",
    "    "
   ]
  },
  {
   "cell_type": "code",
   "execution_count": 3,
   "metadata": {},
   "outputs": [
    {
     "name": "stdout",
     "output_type": "stream",
     "text": [
      "(1, 2, 3, 4, 5)\n",
      "{}\n"
     ]
    }
   ],
   "source": [
    "f1(1,2,3,4,5)"
   ]
  },
  {
   "cell_type": "code",
   "execution_count": 4,
   "metadata": {},
   "outputs": [
    {
     "name": "stdout",
     "output_type": "stream",
     "text": [
      "My name is Mark and I am 53 years old\n"
     ]
    }
   ],
   "source": [
    "print(\"My name is {name} and I am {age} years old\".format(name=\"Mark\", age=53))"
   ]
  },
  {
   "cell_type": "code",
   "execution_count": 6,
   "metadata": {},
   "outputs": [
    {
     "name": "stdout",
     "output_type": "stream",
     "text": [
      "My name is Mark and I am 53 years old\n"
     ]
    }
   ],
   "source": [
    "dict1 = {'name':'Mark', 'age':53}\n",
    "print(\"My name is {name} and I am {age} years old\".format(**dict1))"
   ]
  },
  {
   "cell_type": "code",
   "execution_count": 20,
   "metadata": {},
   "outputs": [
    {
     "name": "stdout",
     "output_type": "stream",
     "text": [
      "2.55000e+06\n"
     ]
    }
   ],
   "source": [
    "str1 = \"{0:1.5e}\".format(2550000)\n",
    "print(str1)"
   ]
  },
  {
   "cell_type": "code",
   "execution_count": 29,
   "metadata": {},
   "outputs": [
    {
     "name": "stdout",
     "output_type": "stream",
     "text": [
      "              3\n",
      "123456789012345\n"
     ]
    }
   ],
   "source": [
    "str1 = \"{0:15d}\\n{1:15d}\".format(3,123456789012345)\n",
    "print(str1)"
   ]
  },
  {
   "cell_type": "code",
   "execution_count": 51,
   "metadata": {},
   "outputs": [
    {
     "name": "stdout",
     "output_type": "stream",
     "text": [
      "     Hello\n",
      "World     22\n"
     ]
    }
   ],
   "source": [
    "str1 = \"{0:>10}\\n{1:<10}22\".format(\"Hello\",\"World\")\n",
    "print(str1)"
   ]
  },
  {
   "cell_type": "markdown",
   "metadata": {},
   "source": [
    "<a id=\"section9\"></a>\n",
    "## Classes"
   ]
  },
  {
   "cell_type": "code",
   "execution_count": 93,
   "metadata": {},
   "outputs": [],
   "source": [
    "class MyClass():\n",
    "    def __init__(self):\n",
    "        print(\"1 init called\")\n",
    "    def sayHello(self):\n",
    "        print(\"hello from Class 1\")\n",
    "    def msg(self,str1):\n",
    "        print(\"MyClass111: {}\".format(str1))"
   ]
  },
  {
   "cell_type": "code",
   "execution_count": 54,
   "metadata": {},
   "outputs": [
    {
     "data": {
      "text/plain": [
       "True"
      ]
     },
     "execution_count": 54,
     "metadata": {},
     "output_type": "execute_result"
    }
   ],
   "source": [
    "import inspect\n",
    "inspect.isclass(MyClass)"
   ]
  },
  {
   "cell_type": "code",
   "execution_count": 91,
   "metadata": {},
   "outputs": [
    {
     "name": "stdout",
     "output_type": "stream",
     "text": [
      "1 init called\n"
     ]
    },
    {
     "data": {
      "text/plain": [
       "True"
      ]
     },
     "execution_count": 91,
     "metadata": {},
     "output_type": "execute_result"
    }
   ],
   "source": [
    "x = MyClass()\n",
    "isinstance(x, object)"
   ]
  },
  {
   "cell_type": "code",
   "execution_count": 95,
   "metadata": {},
   "outputs": [],
   "source": [
    "class MyClass2(MyClass):\n",
    "    def __init__(self):\n",
    "        print(\"2 init called\")\n",
    "        MyClass.__init__(self)\n",
    "    def sayHello(self):\n",
    "        print(\"hello from Class 2\")\n",
    "        MyClass.sayHello(self)\n",
    "    def msg(self,str1):\n",
    "        print(\"MyClass222: {}\".format(str1))\n",
    "        super().msg(str1)"
   ]
  },
  {
   "cell_type": "code",
   "execution_count": 96,
   "metadata": {},
   "outputs": [
    {
     "name": "stdout",
     "output_type": "stream",
     "text": [
      "2 init called\n",
      "1 init called\n",
      "True\n",
      "False\n"
     ]
    }
   ],
   "source": [
    "y = MyClass2()\n",
    "print(isinstance(y, MyClass2))\n",
    "print(isinstance(x, MyClass2))"
   ]
  },
  {
   "cell_type": "code",
   "execution_count": 78,
   "metadata": {},
   "outputs": [
    {
     "name": "stdout",
     "output_type": "stream",
     "text": [
      "hello from Class 2\n",
      "hello from Class 1\n"
     ]
    }
   ],
   "source": [
    "y.sayHello()"
   ]
  },
  {
   "cell_type": "code",
   "execution_count": 74,
   "metadata": {},
   "outputs": [
    {
     "name": "stdout",
     "output_type": "stream",
     "text": [
      "hello from Class 1\n"
     ]
    }
   ],
   "source": [
    "x.sayHello()"
   ]
  },
  {
   "cell_type": "code",
   "execution_count": 97,
   "metadata": {},
   "outputs": [
    {
     "name": "stdout",
     "output_type": "stream",
     "text": [
      "MyClass222: Mark1\n",
      "MyClass111: Mark1\n"
     ]
    }
   ],
   "source": [
    "y.msg(\"Mark1\")"
   ]
  },
  {
   "cell_type": "code",
   "execution_count": 103,
   "metadata": {},
   "outputs": [],
   "source": [
    "class MyClass3(MyClass):\n",
    "    def __init__(self):\n",
    "        print(\"3 init called\")\n",
    "        super().__init__()\n",
    "    def sayHello(self):\n",
    "        print(\"hello from Class 3\")\n",
    "        MyClass.sayHello(self)\n",
    "    def msg(self,str1):\n",
    "        print(\"MyClass333: {}\".format(str1))\n",
    "        super().msg(str1)"
   ]
  },
  {
   "cell_type": "code",
   "execution_count": 104,
   "metadata": {},
   "outputs": [],
   "source": [
    "class MyClass4(MyClass3,MyClass2):\n",
    "    def __init__(self):\n",
    "        print(\"4 init called\")\n",
    "        super().__init__()\n",
    "    def sayHello(self):\n",
    "        print(\"hello from Class 4\")\n",
    "        MyClass.sayHello(self)\n",
    "    def msg(self,str1):\n",
    "        print(\"MyClass444: {}\".format(str1))\n",
    "        super().msg(str1)"
   ]
  },
  {
   "cell_type": "code",
   "execution_count": 105,
   "metadata": {},
   "outputs": [
    {
     "name": "stdout",
     "output_type": "stream",
     "text": [
      "4 init called\n",
      "3 init called\n",
      "2 init called\n",
      "1 init called\n"
     ]
    }
   ],
   "source": [
    "z = MyClass4()"
   ]
  },
  {
   "cell_type": "code",
   "execution_count": 106,
   "metadata": {},
   "outputs": [
    {
     "name": "stdout",
     "output_type": "stream",
     "text": [
      "MyClass444: Fire a msg to all classes\n",
      "MyClass333: Fire a msg to all classes\n",
      "MyClass222: Fire a msg to all classes\n",
      "MyClass111: Fire a msg to all classes\n"
     ]
    }
   ],
   "source": [
    "z.msg(\"Fire a msg to all classes\")"
   ]
  },
  {
   "cell_type": "code",
   "execution_count": 114,
   "metadata": {},
   "outputs": [],
   "source": [
    "class Dot():\n",
    "    def __init__(self,i):\n",
    "        self.count = i\n",
    "    def __add__(self,anotherDot):\n",
    "        self.count += anotherDot.count\n",
    "        \n"
   ]
  },
  {
   "cell_type": "code",
   "execution_count": 116,
   "metadata": {},
   "outputs": [],
   "source": [
    "d1 = Dot(2)\n",
    "d2 = Dot(3)"
   ]
  },
  {
   "cell_type": "code",
   "execution_count": 117,
   "metadata": {},
   "outputs": [],
   "source": [
    "d1 + d2"
   ]
  },
  {
   "cell_type": "code",
   "execution_count": 118,
   "metadata": {},
   "outputs": [
    {
     "data": {
      "text/plain": [
       "5"
      ]
     },
     "execution_count": 118,
     "metadata": {},
     "output_type": "execute_result"
    }
   ],
   "source": [
    "d1.count"
   ]
  },
  {
   "cell_type": "code",
   "execution_count": 119,
   "metadata": {},
   "outputs": [
    {
     "data": {
      "text/plain": [
       "3"
      ]
     },
     "execution_count": 119,
     "metadata": {},
     "output_type": "execute_result"
    }
   ],
   "source": [
    "d2.count"
   ]
  },
  {
   "cell_type": "code",
   "execution_count": 5,
   "metadata": {},
   "outputs": [],
   "source": [
    "list1 = [1,2,3,4,5,6]"
   ]
  },
  {
   "cell_type": "code",
   "execution_count": null,
   "metadata": {},
   "outputs": [],
   "source": []
  }
 ],
 "metadata": {
  "kernelspec": {
   "display_name": "Python 3",
   "language": "python",
   "name": "python3"
  },
  "language_info": {
   "codemirror_mode": {
    "name": "ipython",
    "version": 3
   },
   "file_extension": ".py",
   "mimetype": "text/x-python",
   "name": "python",
   "nbconvert_exporter": "python",
   "pygments_lexer": "ipython3",
   "version": "3.7.1"
  }
 },
 "nbformat": 4,
 "nbformat_minor": 2
}
