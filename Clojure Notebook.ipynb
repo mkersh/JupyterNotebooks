{
 "cells": [
  {
   "cell_type": "markdown",
   "metadata": {},
   "source": [
    "\n",
    "# Clojure Notebook\n",
    "<a id=\"section0\"></a>\n",
    "For learning and experimenting with Clojure:\n",
    "* [Data Structures](#section1\")\n",
    "\n",
    "GITHUB: [https://github.com/mkersh/JupyterNotebooks](https://github.com/mkersh/JupyterNotebooks)"
   ]
  },
  {
   "cell_type": "markdown",
   "metadata": {},
   "source": [
    "[Back](#section0)\n",
    "<a id=\"section1\"></a>\n",
    "## Data Structures\n",
    "Clojure has 4 complex datastructures that you will use to store data:\n",
    "* [Lists](#section1a)\n",
    "* [Vectors](#section1b)\n",
    "* [Maps](#section1c)\n",
    "* Sets\n",
    "* Sequence Abstraction\n",
    "* Collection Abstraction\n",
    "\n",
    "A fundamantal characteristic of the above data structures in Clojure is that these datastructures are persistent (as Clojure likes to call them) - Once created they never change. They are immutable. When you modify a data structure you are created a new copy of the data structure, that may or may not reuse some parts of the original DS it was based on. BUT the key fact is that the old DS remains the same."
   ]
  },
  {
   "cell_type": "markdown",
   "metadata": {},
   "source": [
    "[Back](#section1)\n",
    "<a id=\"section1a\"></a>\n",
    "### List datastructures"
   ]
  },
  {
   "cell_type": "code",
   "execution_count": 1,
   "metadata": {},
   "outputs": [
    {
     "data": {
      "text/plain": [
       "(1 2 3 4 5 6)"
      ]
     },
     "execution_count": 1,
     "metadata": {},
     "output_type": "execute_result"
    }
   ],
   "source": [
    "(def MyExampleList '(1 2 3 4 5 6))\n",
    "MyExampleList"
   ]
  },
  {
   "cell_type": "code",
   "execution_count": 23,
   "metadata": {},
   "outputs": [
    {
     "data": {
      "text/plain": [
       "(0 1 2 3 4 5 6)"
      ]
     },
     "execution_count": 23,
     "metadata": {},
     "output_type": "execute_result"
    }
   ],
   "source": [
    "; adding to the beginning of a list\n",
    "(cons 0 MyExampleList)"
   ]
  },
  {
   "cell_type": "code",
   "execution_count": 24,
   "metadata": {},
   "outputs": [
    {
     "data": {
      "text/plain": [
       "(10 9 8 7 1 2 3 4 5 6)"
      ]
     },
     "execution_count": 24,
     "metadata": {},
     "output_type": "execute_result"
    }
   ],
   "source": [
    "(conj MyExampleList 7 8 9 10)"
   ]
  },
  {
   "cell_type": "code",
   "execution_count": 47,
   "metadata": {},
   "outputs": [
    {
     "data": {
      "text/plain": [
       "(10 9 8 7 1 2 3 4 5 6)"
      ]
     },
     "execution_count": 47,
     "metadata": {},
     "output_type": "execute_result"
    }
   ],
   "source": [
    ";; append 2 lists together\n",
    "(reduce conj MyExampleList '(7 8 9 10))"
   ]
  },
  {
   "cell_type": "markdown",
   "metadata": {},
   "source": [
    "Functions that you can apply to Lists (see [cheatsheet](https://clojure.org/api/cheatsheet)):\n",
    "* Create\n",
    "   * () list list*\n",
    "* Examine\t\n",
    "   * first nth peek .indexOf .lastIndexOf\n",
    "* 'Change'\n",
    "   * cons conj rest pop"
   ]
  },
  {
   "cell_type": "code",
   "execution_count": 41,
   "metadata": {},
   "outputs": [
    {
     "data": {
      "text/plain": [
       "4"
      ]
     },
     "execution_count": 41,
     "metadata": {},
     "output_type": "execute_result"
    }
   ],
   "source": [
    "(nth MyExampleList 3)"
   ]
  },
  {
   "cell_type": "code",
   "execution_count": 42,
   "metadata": {},
   "outputs": [
    {
     "data": {
      "text/plain": [
       "3"
      ]
     },
     "execution_count": 42,
     "metadata": {},
     "output_type": "execute_result"
    }
   ],
   "source": [
    ";; This is an example of calling a java function .indexOf on a list\n",
    "(.indexOf MyExampleList 4)"
   ]
  },
  {
   "cell_type": "markdown",
   "metadata": {},
   "source": [
    "[Back](#section1)\n",
    "<a id=\"section1b\"></a>\n",
    "### Vectors\n",
    "Very similar to lists but it general use vectors to store data.\n",
    "One advantage is that you do not have to quote a vector when it just has data in it, whereas with a list you do.\n",
    "With a list (unless quoted) the first argument is always expected to be a function to apply the the following arguments.\n",
    "\n",
    "<img style=\"height:200px; width:400px;\" src=\"clojureImages/vector.png\"/>"
   ]
  },
  {
   "cell_type": "code",
   "execution_count": 50,
   "metadata": {},
   "outputs": [
    {
     "data": {
      "text/plain": [
       "[1 2 3 4]"
      ]
     },
     "execution_count": 50,
     "metadata": {},
     "output_type": "execute_result"
    }
   ],
   "source": [
    "[1 2 3 4]"
   ]
  },
  {
   "cell_type": "code",
   "execution_count": 51,
   "metadata": {},
   "outputs": [
    {
     "data": {
      "text/plain": [
       "[1 4 5 6]"
      ]
     },
     "execution_count": 51,
     "metadata": {},
     "output_type": "execute_result"
    }
   ],
   "source": [
    "(vector 1 4 5 6)"
   ]
  },
  {
   "cell_type": "code",
   "execution_count": 54,
   "metadata": {},
   "outputs": [
    {
     "data": {
      "text/plain": [
       "[1 2 \"hh\"]"
      ]
     },
     "execution_count": 54,
     "metadata": {},
     "output_type": "execute_result"
    }
   ],
   "source": [
    "(vector 1 2 \"hh\")"
   ]
  },
  {
   "cell_type": "code",
   "execution_count": 55,
   "metadata": {},
   "outputs": [
    {
     "name": "stderr",
     "output_type": "stream",
     "text": [
      "Execution error (ClassCastException) at user/eval4184 (REPL:1).\n",
      "java.lang.String cannot be cast to java.lang.Character\n"
     ]
    },
    {
     "ename": "class java.lang.ClassCastException",
     "evalue": "",
     "output_type": "error",
     "traceback": [
      "    RT.java:  1220 clojure.lang.RT/intCast",
      "   gvec.clj:   469 clojure.core$reify__8299/aset",
      "   gvec.clj:   512 clojure.core$vector_of/invokeStatic",
      "   gvec.clj:   484 clojure.core$vector_of/invoke",
      "   core.clj:  3214 clojure.core$eval/invokeStatic",
      "   core.clj:  3210 clojure.core$eval/invoke",
      "   main.clj:   437 clojure.main$repl$read_eval_print__9086$fn__9089/invoke",
      "   main.clj:   458 clojure.main$repl$fn__9095/invoke",
      "   main.clj:   368 clojure.main$repl/doInvoke",
      "RestFn.java:  1523 clojure.lang.RestFn/invoke",
      "   AFn.java:    22 clojure.lang.AFn/run",
      "   AFn.java:    22 clojure.lang.AFn/run",
      "Thread.java:   745 java.lang.Thread/run"
     ]
    }
   ],
   "source": [
    "(vector-of :int 1 2 \"hh\")"
   ]
  },
  {
   "cell_type": "code",
   "execution_count": 56,
   "metadata": {},
   "outputs": [
    {
     "data": {
      "text/plain": [
       "#'user/myVector"
      ]
     },
     "execution_count": 56,
     "metadata": {},
     "output_type": "execute_result"
    }
   ],
   "source": [
    "(def myVector [\"this\" \"that\" \"here\" \"there\"])"
   ]
  },
  {
   "cell_type": "code",
   "execution_count": 58,
   "metadata": {},
   "outputs": [
    {
     "data": {
      "text/plain": [
       "\"that\""
      ]
     },
     "execution_count": 58,
     "metadata": {},
     "output_type": "execute_result"
    }
   ],
   "source": [
    "(myVector 1)"
   ]
  },
  {
   "cell_type": "code",
   "execution_count": 59,
   "metadata": {},
   "outputs": [
    {
     "data": {
      "text/plain": [
       "[\"this\" \"Wow\" \"here\" \"there\"]"
      ]
     },
     "execution_count": 59,
     "metadata": {},
     "output_type": "execute_result"
    }
   ],
   "source": [
    "(assoc myVector 1 \"Wow\")"
   ]
  },
  {
   "cell_type": "code",
   "execution_count": 60,
   "metadata": {},
   "outputs": [
    {
     "data": {
      "text/plain": [
       "[\"this\" \"that\" \"here\" \"there\"]"
      ]
     },
     "execution_count": 60,
     "metadata": {},
     "output_type": "execute_result"
    }
   ],
   "source": []
  },
  {
   "cell_type": "markdown",
   "metadata": {},
   "source": [
    "[Back](#section1)\n",
    "<a id=\"section1c\"></a>\n",
    "### Maps\n",
    "<img style=\"height:300px; width:400px;\" src=\"clojureImages/maps.png\"/>"
   ]
  },
  {
   "cell_type": "code",
   "execution_count": 93,
   "metadata": {},
   "outputs": [
    {
     "data": {
      "text/plain": [
       "#'user/myMap"
      ]
     },
     "execution_count": 93,
     "metadata": {},
     "output_type": "execute_result"
    }
   ],
   "source": [
    "(def myMap {:key1 \"This is key1\" :key2 \"this is key 2\"\n",
    "            :key3 \"This is key3\"\n",
    "            4 \"this is keyed by 4\"\n",
    "            \"SomeKey\" \"Value of somekey\"\n",
    "            })"
   ]
  },
  {
   "cell_type": "code",
   "execution_count": 65,
   "metadata": {},
   "outputs": [
    {
     "data": {
      "text/plain": [
       "{:key1 \"This is key1\", :key2 \"this is key 2\", :key3 \"This is key3\", 4 \"this is keyed by 4\"}"
      ]
     },
     "execution_count": 65,
     "metadata": {},
     "output_type": "execute_result"
    }
   ],
   "source": [
    "myMap"
   ]
  },
  {
   "cell_type": "code",
   "execution_count": 94,
   "metadata": {},
   "outputs": [
    {
     "name": "stdout",
     "output_type": "stream",
     "text": [
      "Using get without a default:  this is keyed by 4\n",
      "Using get with a default:  (optinal) default if key missing\n",
      "Map as function:  Value of somekey\n",
      "Map as function (with default):  default\n",
      "keyword as function  nil\n"
     ]
    },
    {
     "data": {
      "text/plain": [
       "nil"
      ]
     },
     "execution_count": 94,
     "metadata": {},
     "output_type": "execute_result"
    }
   ],
   "source": [
    ";; There are a number of ways to get stuff out of a map\n",
    "(println \"Using get without a default: \" (get myMap 4))\n",
    "(println \"Using get with a default: \"(get myMap 5 \"(optinal) default if key missing\"))\n",
    "(println \"Map as function: \" (myMap \"SomeKey\" ))\n",
    "(println \"Map as function (with default): \" (myMap \"SomeKey4\" \"default\" ))\n",
    "(println \"keyword as function \" (:key30 myMap))"
   ]
  },
  {
   "cell_type": "code",
   "execution_count": 132,
   "metadata": {},
   "outputs": [
    {
     "data": {
      "text/plain": [
       "#'user/myMap2"
      ]
     },
     "execution_count": 132,
     "metadata": {},
     "output_type": "execute_result"
    }
   ],
   "source": [
    "(def myMap2 (sorted-map :key55 [\"55 val1\"] :key56 [\"55 val2\"]))"
   ]
  },
  {
   "cell_type": "code",
   "execution_count": 104,
   "metadata": {},
   "outputs": [
    {
     "data": {
      "text/plain": [
       "{:key55 \"55 val1\", :key56 \"55 val2\"}"
      ]
     },
     "execution_count": 104,
     "metadata": {},
     "output_type": "execute_result"
    }
   ],
   "source": [
    "myMap2"
   ]
  },
  {
   "cell_type": "code",
   "execution_count": 130,
   "metadata": {},
   "outputs": [
    {
     "data": {
      "text/plain": [
       "{:key55 [11], :key56 \"55 val2\"}"
      ]
     },
     "execution_count": 130,
     "metadata": {},
     "output_type": "execute_result"
    }
   ],
   "source": [
    "(assoc myMap2 :key55 11)"
   ]
  },
  {
   "cell_type": "code",
   "execution_count": 140,
   "metadata": {},
   "outputs": [
    {
     "data": {
      "text/plain": [
       "#'user/addItem"
      ]
     },
     "execution_count": 140,
     "metadata": {},
     "output_type": "execute_result"
    }
   ],
   "source": [
    "(defn addItem [key val]\n",
    "    \"this is a docString associated with the function\"\n",
    "    (let \n",
    "        [curVal (myMap2 key)\n",
    "         newVal (conj curVal val)\n",
    "        ]\n",
    "        (assoc myMap2 key newVal)\n",
    "    )\n",
    ")"
   ]
  },
  {
   "cell_type": "code",
   "execution_count": 143,
   "metadata": {},
   "outputs": [
    {
     "data": {
      "text/plain": [
       "[\"55 val1\" \"new val 23232332\"]"
      ]
     },
     "execution_count": 143,
     "metadata": {},
     "output_type": "execute_result"
    }
   ],
   "source": [
    "((addItem :key55 \"new val 23232332\") :key55)"
   ]
  },
  {
   "cell_type": "code",
   "execution_count": 110,
   "metadata": {},
   "outputs": [
    {
     "data": {
      "text/plain": [
       "\"55 val1\""
      ]
     },
     "execution_count": 110,
     "metadata": {},
     "output_type": "execute_result"
    }
   ],
   "source": [
    "(myMap2 :key55)"
   ]
  },
  {
   "cell_type": "code",
   "execution_count": 120,
   "metadata": {},
   "outputs": [
    {
     "data": {
      "text/plain": [
       "[1 2]"
      ]
     },
     "execution_count": 120,
     "metadata": {},
     "output_type": "execute_result"
    }
   ],
   "source": [
    "(conj [1] 2)"
   ]
  },
  {
   "cell_type": "code",
   "execution_count": 126,
   "metadata": {},
   "outputs": [
    {
     "data": {
      "text/plain": [
       "(1)"
      ]
     },
     "execution_count": 126,
     "metadata": {},
     "output_type": "execute_result"
    }
   ],
   "source": [
    "(conj nil 1)"
   ]
  },
  {
   "cell_type": "code",
   "execution_count": 5,
   "metadata": {},
   "outputs": [
    {
     "name": "stderr",
     "output_type": "stream",
     "text": [
      "Execution error at clojure.data.json/-read (json.clj:226).\n",
      "JSON error (unexpected character): ﻿\n"
     ]
    },
    {
     "ename": "class java.lang.Exception",
     "evalue": "",
     "output_type": "error",
     "traceback": [
      "   json.clj:   226 clojure.data.json$_read/invokeStatic",
      "   json.clj:   177 clojure.data.json$_read/invoke",
      "   json.clj:   272 clojure.data.json$read/invokeStatic",
      "   json.clj:   228 clojure.data.json$read/doInvoke",
      "RestFn.java:   410 clojure.lang.RestFn/invoke",
      "   AFn.java:   154 clojure.lang.AFn/applyToHelper",
      "RestFn.java:   132 clojure.lang.RestFn/applyTo",
      "   core.clj:   667 clojure.core$apply/invokeStatic",
      "   core.clj:   660 clojure.core$apply/invoke",
      "   json.clj:   278 clojure.data.json$read_str/invokeStatic",
      "   json.clj:   274 clojure.data.json$read_str/doInvoke",
      "RestFn.java:   410 clojure.lang.RestFn/invoke",
      "   core.clj:  3214 clojure.core$eval/invokeStatic",
      "   core.clj:  3210 clojure.core$eval/invoke",
      "   main.clj:   437 clojure.main$repl$read_eval_print__9086$fn__9089/invoke",
      "   main.clj:   458 clojure.main$repl$fn__9095/invoke",
      "   main.clj:   368 clojure.main$repl/doInvoke",
      "RestFn.java:  1523 clojure.lang.RestFn/invoke",
      "   AFn.java:    22 clojure.lang.AFn/run",
      "   AFn.java:    22 clojure.lang.AFn/run",
      "Thread.java:   745 java.lang.Thread/run"
     ]
    }
   ],
   "source": [
    "(json/read-str (slurp \"http://www.gutenberg.org/cache/epub/844/pg844.txt\"))"
   ]
  },
  {
   "cell_type": "code",
   "execution_count": 2,
   "metadata": {},
   "outputs": [
    {
     "name": "stderr",
     "output_type": "stream",
     "text": [
      "Syntax error compiling at (REPL:1:1).\n",
      "namespace 'org.httpkit.client' not found\n"
     ]
    },
    {
     "ename": "class clojure.lang.Compiler$CompilerException",
     "evalue": "",
     "output_type": "error",
     "traceback": [
      "   core.clj:   667 clojure.core$apply/invokeStatic",
      "   core.clj:  5985 clojure.core$load_libs/invokeStatic",
      "   core.clj:  5969 clojure.core$load_libs/doInvoke",
      "RestFn.java:   137 clojure.lang.RestFn/applyTo",
      "   core.clj:   667 clojure.core$apply/invokeStatic",
      "   core.clj:  6007 clojure.core$require/invokeStatic",
      "RestFn.java:   421 clojure.lang.RestFn/invoke",
      "   core.clj:  3214 clojure.core$eval/invokeStatic",
      "   core.clj:  3210 clojure.core$eval/invoke",
      "   main.clj:   437 clojure.main$repl$read_eval_print__9086$fn__9089/invoke",
      "   main.clj:   458 clojure.main$repl$fn__9095/invoke",
      "   main.clj:   368 clojure.main$repl/doInvoke",
      "RestFn.java:  1523 clojure.lang.RestFn/invoke",
      "   AFn.java:    22 clojure.lang.AFn/run",
      "   AFn.java:    22 clojure.lang.AFn/run",
      "Thread.java:   745 java.lang.Thread/run"
     ]
    }
   ],
   "source": [
    "(ns practicalli.simple-api-client\n",
    "  (:gen-class)\n",
    "  (:require [clojure.data.json :as json]\n",
    "           [org.httpkit.client :as client]))"
   ]
  },
  {
   "cell_type": "code",
   "execution_count": 4,
   "metadata": {},
   "outputs": [
    {
     "data": {
      "text/plain": [
       "[]"
      ]
     },
     "execution_count": 4,
     "metadata": {},
     "output_type": "execute_result"
    }
   ],
   "source": [
    "(json/read-str\n",
    "  (slurp \"https://game-scoreboard-api.herokuapp.com/game/scoreboard\"))"
   ]
  },
  {
   "cell_type": "code",
   "execution_count": 3,
   "metadata": {},
   "outputs": [
    {
     "name": "stdout",
     "output_type": "stream",
     "text": [
      "file:/Users/mkersh/anaconda3/share/jupyter/kernels/conda-clojupyter/clojupyter-standalone.jar\n",
      "file:/Users/mkersh/anaconda3/lib/tools.jar\n"
     ]
    },
    {
     "data": {
      "text/plain": [
       "nil"
      ]
     },
     "execution_count": 3,
     "metadata": {},
     "output_type": "execute_result"
    }
   ],
   "source": [
    "(println (clojure.string/join \"\\n\" (seq (.getURLs (java.lang.ClassLoader/getSystemClassLoader)))))"
   ]
  },
  {
   "cell_type": "code",
   "execution_count": 4,
   "metadata": {},
   "outputs": [
    {
     "data": {
      "text/plain": [
       "#object[sun.misc.Launcher$AppClassLoader 0x42a57993 \"sun.misc.Launcher$AppClassLoader@42a57993\"]"
      ]
     },
     "execution_count": 4,
     "metadata": {},
     "output_type": "execute_result"
    }
   ],
   "source": [
    "(java.lang.ClassLoader/getSystemClassLoader)"
   ]
  },
  {
   "cell_type": "code",
   "execution_count": 1,
   "metadata": {},
   "outputs": [
    {
     "name": "stderr",
     "output_type": "stream",
     "text": [
      "Syntax error (ClassNotFoundException) compiling . at (org/httpkit/client.clj:69:29).\n",
      "clojure.lang.Keyword\n"
     ]
    },
    {
     "ename": "class clojure.lang.Compiler$CompilerException",
     "evalue": "",
     "output_type": "error",
     "traceback": [
      "URLClassLoader.java:   381 java.net.URLClassLoader/findClass",
      "   ClassLoader.java:   424 java.lang.ClassLoader/loadClass",
      "         Class.java:    -2 java.lang.Class/getDeclaredMethods0",
      "         Class.java:  2701 java.lang.Class/privateGetDeclaredMethods",
      "         Class.java:  2902 java.lang.Class/privateGetPublicMethods",
      "         Class.java:  1615 java.lang.Class/getMethods",
      "     Reflector.java:   498 clojure.lang.Reflector/getMethods",
      "            RT.java:   381 clojure.lang.RT/loadResourceScript",
      "            RT.java:   459 clojure.lang.RT/load",
      "           core.clj:  6126 clojure.core$load$fn__6839/invoke",
      "           core.clj:  6125 clojure.core$load/invokeStatic",
      "           core.clj:  6109 clojure.core$load/doInvoke",
      "        RestFn.java:   408 clojure.lang.RestFn/invoke",
      "           core.clj:  5908 clojure.core$load_one/invokeStatic",
      "           core.clj:  5903 clojure.core$load_one/invoke",
      "           core.clj:  5948 clojure.core$load_lib$fn__6780/invoke",
      "           core.clj:  5947 clojure.core$load_lib/invokeStatic",
      "           core.clj:  5928 clojure.core$load_lib/doInvoke",
      "        RestFn.java:   142 clojure.lang.RestFn/applyTo",
      "           core.clj:   667 clojure.core$apply/invokeStatic",
      "           core.clj:  5985 clojure.core$load_libs/invokeStatic",
      "           core.clj:  5969 clojure.core$load_libs/doInvoke",
      "        RestFn.java:   137 clojure.lang.RestFn/applyTo",
      "           core.clj:   667 clojure.core$apply/invokeStatic",
      "           core.clj:  6007 clojure.core$require/invokeStatic",
      "        RestFn.java:   408 clojure.lang.RestFn/invoke",
      "           core.clj:  3214 clojure.core$eval/invokeStatic",
      "           core.clj:  3210 clojure.core$eval/invoke",
      "           main.clj:   437 clojure.main$repl$read_eval_print__9086$fn__9089/invoke",
      "           main.clj:   458 clojure.main$repl$fn__9095/invoke",
      "           main.clj:   368 clojure.main$repl/doInvoke",
      "        RestFn.java:  1523 clojure.lang.RestFn/invoke",
      "           AFn.java:    22 clojure.lang.AFn/run",
      "           AFn.java:    22 clojure.lang.AFn/run",
      "        Thread.java:   745 java.lang.Thread/run"
     ]
    }
   ],
   "source": [
    "(ns practicalli.simple-api-client\n",
    "  (:gen-class)\n",
    "  (:require [org.httpkit.client :as client]))"
   ]
  },
  {
   "cell_type": "code",
   "execution_count": null,
   "metadata": {},
   "outputs": [],
   "source": []
  }
 ],
 "metadata": {
  "kernelspec": {
   "display_name": "Clojure (clojupyter=0.3.2=1)",
   "language": "clojure",
   "name": "conda-clojupyter"
  },
  "language_info": {
   "file_extension": ".clj",
   "mimetype": "text/x-clojure",
   "name": "clojure",
   "version": "1.10.1"
  }
 },
 "nbformat": 4,
 "nbformat_minor": 2
}
