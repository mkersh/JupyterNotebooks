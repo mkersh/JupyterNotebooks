{
 "cells": [
  {
   "cell_type": "code",
   "execution_count": 1,
   "metadata": {},
   "outputs": [],
   "source": [
    "def multQxPlus1(q, resList):\n",
    "    # This function calculates (qx + 1) * resList and returns as a new list\n",
    "    qxList = [] # qxList will store result of qx * resList\n",
    "    for xn in resList:\n",
    "        newXn = xn*q # multiply the current value of Xn * q\n",
    "        qxList.append(newXn)\n",
    "    # Shift all the elements of qxList to the right to perform a (x * resList)\n",
    "    qxList = [0] + qxList\n",
    "    origList = resList + [0] # adding a 0 at the end to make lists same length\n",
    "    newResList = []\n",
    "    for i, curVal in enumerate(origList):\n",
    "        newResList += [qxList[i] + curVal]\n",
    "    return newResList\n",
    "    \n",
    "def polynomial(N):\n",
    "    # We will use resList to store [X^0, X^1, X^2, x^3, ...]\n",
    "    resList = [1,1] # Set initial value for q=1\n",
    "    for q in range(2,N+1):\n",
    "        resList = multQxPlus1(q,resList)\n",
    "    return resList\n",
    "        \n",
    "def polynomial_with_roots(N,m):\n",
    "    resList = polynomial(N)\n",
    "    return resList[m]"
   ]
  },
  {
   "cell_type": "code",
   "execution_count": 4,
   "metadata": {},
   "outputs": [
    {
     "data": {
      "text/plain": [
       "[1,\n",
       " 55,\n",
       " 1320,\n",
       " 18150,\n",
       " 157773,\n",
       " 902055,\n",
       " 3416930,\n",
       " 8409500,\n",
       " 12753576,\n",
       " 10628640,\n",
       " 3628800]"
      ]
     },
     "execution_count": 4,
     "metadata": {},
     "output_type": "execute_result"
    }
   ],
   "source": [
    "polynomial(40)"
   ]
  },
  {
   "cell_type": "code",
   "execution_count": 13,
   "metadata": {},
   "outputs": [
    {
     "data": {
      "text/plain": [
       "[1, 2, 3, 4]"
      ]
     },
     "execution_count": 13,
     "metadata": {},
     "output_type": "execute_result"
    }
   ],
   "source": [
    "l1 = [1,2,3,4]\n",
    "l2 = l1.copy()\n",
    "l2"
   ]
  },
  {
   "cell_type": "code",
   "execution_count": 33,
   "metadata": {},
   "outputs": [
    {
     "data": {
      "text/plain": [
       "8320987112741390144276341183223364380754172606361245952449277696409600000000000000"
      ]
     },
     "execution_count": 33,
     "metadata": {},
     "output_type": "execute_result"
    }
   ],
   "source": [
    "polynomial_with_roots(60,60)"
   ]
  },
  {
   "cell_type": "code",
   "execution_count": 11,
   "metadata": {},
   "outputs": [],
   "source": [
    "def multxPlus1(q, resList):\n",
    "    # This function calculates (qx + 1) * resList and returns as a new list\n",
    "    qxList = [] # qxList will store result of qx * resList\n",
    "    for xn in resList:\n",
    "        newXn = xn*1 # multiply the current value of Xn * q\n",
    "        qxList.append(newXn)\n",
    "    # Shift all the elements of qxList to the right to perform a (x * resList)\n",
    "    qxList = [0] + qxList\n",
    "    origList = resList + [0] # adding a 0 at the end to make lists same length\n",
    "    newResList = []\n",
    "    for i, curVal in enumerate(origList):\n",
    "        newResList += [qxList[i] + curVal]\n",
    "    return newResList\n",
    "    \n",
    "def polynomial2(N):\n",
    "    # We will use resList to store [X^0, X^1, X^2, x^3, ...]\n",
    "    resList = [1,1] # Set initial value for q=1\n",
    "    for q in range(2,N+1):\n",
    "        resList = multxPlus1(q,resList)\n",
    "    return resList"
   ]
  },
  {
   "cell_type": "code",
   "execution_count": 15,
   "metadata": {},
   "outputs": [
    {
     "data": {
      "text/plain": [
       "[1, 6, 15, 20, 15, 6, 1]"
      ]
     },
     "execution_count": 15,
     "metadata": {},
     "output_type": "execute_result"
    }
   ],
   "source": [
    "polynomial2(6)"
   ]
  },
  {
   "cell_type": "code",
   "execution_count": null,
   "metadata": {},
   "outputs": [],
   "source": []
  }
 ],
 "metadata": {
  "kernelspec": {
   "display_name": "Python 3",
   "language": "python",
   "name": "python3"
  },
  "language_info": {
   "codemirror_mode": {
    "name": "ipython",
    "version": 3
   },
   "file_extension": ".py",
   "mimetype": "text/x-python",
   "name": "python",
   "nbconvert_exporter": "python",
   "pygments_lexer": "ipython3",
   "version": "3.7.1"
  }
 },
 "nbformat": 4,
 "nbformat_minor": 2
}
