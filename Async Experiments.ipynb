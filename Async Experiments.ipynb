{
 "cells": [
  {
   "cell_type": "markdown",
   "metadata": {},
   "source": [
    "## Experimenting with Python Asyncio package\n",
    "\n",
    "### References\n",
    "* https://realpython.com/async-io-python/\n",
    "* https://docs.python.org/3/library/asyncio.html\n",
    "* https://vibora.io/\n"
   ]
  },
  {
   "cell_type": "code",
   "execution_count": 1,
   "metadata": {},
   "outputs": [],
   "source": [
    "import asyncio\n",
    "import time"
   ]
  },
  {
   "cell_type": "markdown",
   "metadata": {},
   "source": [
    "### First ever Async program"
   ]
  },
  {
   "cell_type": "code",
   "execution_count": 39,
   "metadata": {},
   "outputs": [],
   "source": [
    "async def count():\n",
    "    print(\"One\")\n",
    "    await asyncio.sleep(1)\n",
    "    print(\"Two\")\n",
    "\n",
    "async def main():\n",
    "    await asyncio.gather(count(), count(), count())\n"
   ]
  },
  {
   "cell_type": "code",
   "execution_count": 50,
   "metadata": {},
   "outputs": [
    {
     "name": "stdout",
     "output_type": "stream",
     "text": [
      "One\n",
      "One\n",
      "One\n",
      "Two\n",
      "Two\n",
      "Two\n",
      "Executed in 1.00 seconds.\n"
     ]
    }
   ],
   "source": [
    "s = time.perf_counter()\n",
    "# In a standalone program you would start the event loop but this is not needed in a Jupyter notebook\n",
    "# asyncio.run(main())  \n",
    "await main()\n",
    "elapsed = time.perf_counter() - s\n",
    "print(\"Executed in {elapsed:0.2f} seconds.\".format(elapsed=elapsed))"
   ]
  },
  {
   "cell_type": "code",
   "execution_count": 46,
   "metadata": {},
   "outputs": [],
   "source": [
    "import random\n",
    "\n",
    "async def count2(coRoutineID):\n",
    "    print(\"{id} - One\".format(id=coRoutineID))\n",
    "    randomWait = random.randint(1,10)\n",
    "    await asyncio.sleep(randomWait)\n",
    "    print(\"{id} - Two\".format(id=coRoutineID))\n",
    "\n",
    "    "
   ]
  },
  {
   "cell_type": "code",
   "execution_count": 47,
   "metadata": {},
   "outputs": [],
   "source": [
    "async def main2():\n",
    "    funcList = []\n",
    "    for i in range(10):\n",
    "        funcList.append(count2(i))\n",
    "    await asyncio.gather(*funcList)\n"
   ]
  },
  {
   "cell_type": "code",
   "execution_count": 60,
   "metadata": {},
   "outputs": [
    {
     "name": "stdout",
     "output_type": "stream",
     "text": [
      "0 - One\n",
      "1 - One\n",
      "2 - One\n",
      "3 - One\n",
      "4 - One\n",
      "5 - One\n",
      "6 - One\n",
      "7 - One\n",
      "8 - One\n",
      "9 - One\n",
      "0 - Two\n",
      "2 - Two\n",
      "3 - Two\n",
      "5 - Two\n",
      "7 - Two\n",
      "9 - Two\n",
      "6 - Two\n",
      "1 - Two\n",
      "8 - Two\n",
      "4 - Two\n",
      "Executed in 8.00 seconds.\n"
     ]
    }
   ],
   "source": [
    "s = time.perf_counter()\n",
    "await main2()\n",
    "elapsed = time.perf_counter() - s\n",
    "print(\"Executed in {elapsed:0.2f} seconds.\".format(elapsed=elapsed))"
   ]
  },
  {
   "cell_type": "markdown",
   "metadata": {},
   "source": [
    "### Awaiting other things\n",
    "What other things can we wait for??\n",
    "I actually want to wait for an event to happen and there are things in the asyncio library to do this\n",
    "BUT first lets just experiment a bit.\n",
    "\n",
    "So you can wait for anything by creating a coRoutine that does the checking"
   ]
  },
  {
   "cell_type": "code",
   "execution_count": 55,
   "metadata": {},
   "outputs": [],
   "source": [
    "async def asyncRoutine(id):\n",
    "    for i in range(10):\n",
    "        await print(\"{id} - count {i}\".format(id=id, i=i))"
   ]
  },
  {
   "cell_type": "code",
   "execution_count": 56,
   "metadata": {},
   "outputs": [
    {
     "name": "stdout",
     "output_type": "stream",
     "text": [
      "1 - count 0\n"
     ]
    },
    {
     "ename": "TypeError",
     "evalue": "object NoneType can't be used in 'await' expression",
     "output_type": "error",
     "traceback": [
      "\u001b[0;31m---------------------------------------------------------------------------\u001b[0m",
      "\u001b[0;31mTypeError\u001b[0m                                 Traceback (most recent call last)",
      "\u001b[0;32mcell_name\u001b[0m in \u001b[0;36masync-def-wrapper\u001b[0;34m()\u001b[0m\n",
      "\u001b[0;32m<ipython-input-55-03fda04bd6ca>\u001b[0m in \u001b[0;36masyncRoutine\u001b[0;34m(id)\u001b[0m\n\u001b[1;32m      1\u001b[0m \u001b[0;32masync\u001b[0m \u001b[0;32mdef\u001b[0m \u001b[0masyncRoutine\u001b[0m\u001b[0;34m(\u001b[0m\u001b[0mid\u001b[0m\u001b[0;34m)\u001b[0m\u001b[0;34m:\u001b[0m\u001b[0;34m\u001b[0m\u001b[0;34m\u001b[0m\u001b[0m\n\u001b[1;32m      2\u001b[0m     \u001b[0;32mfor\u001b[0m \u001b[0mi\u001b[0m \u001b[0;32min\u001b[0m \u001b[0mrange\u001b[0m\u001b[0;34m(\u001b[0m\u001b[0;36m10\u001b[0m\u001b[0;34m)\u001b[0m\u001b[0;34m:\u001b[0m\u001b[0;34m\u001b[0m\u001b[0;34m\u001b[0m\u001b[0m\n\u001b[0;32m----> 3\u001b[0;31m         \u001b[0;32mawait\u001b[0m \u001b[0mprint\u001b[0m\u001b[0;34m(\u001b[0m\u001b[0;34m\"{id} - count {i}\"\u001b[0m\u001b[0;34m.\u001b[0m\u001b[0mformat\u001b[0m\u001b[0;34m(\u001b[0m\u001b[0mid\u001b[0m\u001b[0;34m=\u001b[0m\u001b[0mid\u001b[0m\u001b[0;34m,\u001b[0m \u001b[0mi\u001b[0m\u001b[0;34m=\u001b[0m\u001b[0mi\u001b[0m\u001b[0;34m)\u001b[0m\u001b[0;34m)\u001b[0m\u001b[0;34m\u001b[0m\u001b[0;34m\u001b[0m\u001b[0m\n\u001b[0m",
      "\u001b[0;31mTypeError\u001b[0m: object NoneType can't be used in 'await' expression"
     ]
    }
   ],
   "source": [
    "await asyncRoutine(1)"
   ]
  },
  {
   "cell_type": "code",
   "execution_count": 58,
   "metadata": {},
   "outputs": [],
   "source": [
    "async def printIt(id,i):\n",
    "    print(\"{id} - count {i}\".format(id=id, i=i))\n",
    "    \n",
    "async def asyncRoutine(id):\n",
    "    for i in range(10):\n",
    "        await printIt(id,i)"
   ]
  },
  {
   "cell_type": "code",
   "execution_count": 61,
   "metadata": {},
   "outputs": [
    {
     "name": "stdout",
     "output_type": "stream",
     "text": [
      "1 - count 0\n",
      "1 - count 1\n",
      "1 - count 2\n",
      "1 - count 3\n",
      "1 - count 4\n",
      "1 - count 5\n",
      "1 - count 6\n",
      "1 - count 7\n",
      "1 - count 8\n",
      "1 - count 9\n"
     ]
    }
   ],
   "source": [
    "await asyncRoutine(1)"
   ]
  },
  {
   "cell_type": "markdown",
   "metadata": {},
   "source": [
    "#### Something close to what I need"
   ]
  },
  {
   "cell_type": "code",
   "execution_count": 7,
   "metadata": {},
   "outputs": [],
   "source": [
    "async def stopItNow(eventsDict):\n",
    "    print(\"stopItNow called\")\n",
    "    await asyncio.sleep(1)\n",
    "    eventsDict['MyEvent'] = \"STOP\"\n",
    "\n",
    "# Having giveway just pass doesn't work.  stopItNow never gets a look it then   \n",
    "async def giveway():\n",
    "    # await asyncio.sleep(1)\n",
    "    return True\n",
    "\n",
    "async def checkIt(eventsDict):\n",
    "    count = 0\n",
    "    while eventsDict['MyEvent'] is None:\n",
    "        count += 1\n",
    "        print(\"checkIt called for {count} time\".format(count=count))\n",
    "        await giveway()\n",
    "        \n",
    "        "
   ]
  },
  {
   "cell_type": "code",
   "execution_count": 6,
   "metadata": {},
   "outputs": [],
   "source": [
    "eventsDict = {}\n",
    "eventsDict['MyEvent'] = None"
   ]
  },
  {
   "cell_type": "code",
   "execution_count": null,
   "metadata": {},
   "outputs": [],
   "source": [
    "# WARNING: IF you run this it will not stop and you will have to restart the kernel\n",
    "# Not too sure why it won;t stop yet?? It appear that without any pause checkIt runs forever\n",
    "await asyncio.gather(stopItNow(eventsDict), checkIt(eventsDict))"
   ]
  },
  {
   "cell_type": "markdown",
   "metadata": {},
   "source": [
    "### Asyncio Events"
   ]
  },
  {
   "cell_type": "code",
   "execution_count": 4,
   "metadata": {},
   "outputs": [],
   "source": [
    "async def waiter(event):\n",
    "    print('waiting for it ...')\n",
    "    await event.wait()\n",
    "    print('... got it!')\n",
    "\n",
    "async def main():\n",
    "    # Create an Event object.\n",
    "    event = asyncio.Event()\n",
    "\n",
    "    print(\"Spawn task\")\n",
    "    # Spawn a Task to wait until 'event' is set.\n",
    "    waiter_task = asyncio.create_task(waiter(event))\n",
    "\n",
    "    print(\"Sleep before triggering event\")\n",
    "    # Sleep for 1 second and set the event.\n",
    "    await asyncio.sleep(1)\n",
    "    event.set()\n",
    "\n",
    "    print(\"Wait for task to finish\")\n",
    "    # Wait until the waiter task is finished.\n",
    "    await waiter_task\n",
    "\n"
   ]
  },
  {
   "cell_type": "code",
   "execution_count": 5,
   "metadata": {},
   "outputs": [
    {
     "name": "stdout",
     "output_type": "stream",
     "text": [
      "Spawn task\n",
      "Sleep before triggering event\n",
      "waiting for it ...\n",
      "Wait for task to finish\n",
      "... got it!\n"
     ]
    }
   ],
   "source": [
    "await main()"
   ]
  },
  {
   "cell_type": "markdown",
   "metadata": {},
   "source": [
    "#### Something close to what I need for SyncEndpoint|"
   ]
  },
  {
   "cell_type": "code",
   "execution_count": 7,
   "metadata": {},
   "outputs": [],
   "source": [
    "# dictionary of asyncio.Event() key'ed by unique responseID\n",
    "responseEvents = {}\n",
    "responseDetails = {\n",
    "    \"ID121324242\": \"This is the response back\"\n",
    "}"
   ]
  },
  {
   "cell_type": "code",
   "execution_count": 4,
   "metadata": {},
   "outputs": [],
   "source": [
    "def getUniqueResponseID():\n",
    "    # dummy this for now\n",
    "    return \"ID121324242\"\n",
    "\n",
    "def callAsyncMPOAPI(id):\n",
    "    # call MPO API pass in responseID\n",
    "    # MPO process when finished will callback to the webserver on a specific endpoint pass this responseID back\n",
    "    pass\n",
    "\n",
    "async def webServerRequest():\n",
    "    # will call asynchronous MPO process passing it a responseID\n",
    "    responseID = getUniqueResponseID()\n",
    "    responseEvents[responseID] = asyncio.Event()\n",
    "    print('In webserver waiting for response ...')\n",
    "    callAsyncMPOAPI(responseID)\n",
    "    await responseEvents[responseID].wait()\n",
    "    print(responseDetails[responseID])"
   ]
  },
  {
   "cell_type": "code",
   "execution_count": 28,
   "metadata": {},
   "outputs": [
    {
     "name": "stdout",
     "output_type": "stream",
     "text": [
      "Sleep before we send event\n",
      "In webserver waiting for response ...\n",
      "send event\n",
      "This is the response back\n"
     ]
    }
   ],
   "source": [
    "webserver_task = asyncio.create_task(webServerRequest())\n",
    "print(\"Sleep before we send event\")\n",
    "await asyncio.sleep(10)\n",
    "print(\"send event\")\n",
    "responseEvents[\"ID121324242\"].set()\n",
    "# You don't really need the next line (in this case)\n",
    "await webserver_task"
   ]
  },
  {
   "cell_type": "markdown",
   "metadata": {},
   "source": [
    "I think the above is basically what I need to implement my SyncEndPoint in https://vibora.io/\n",
    "Will test this out another day"
   ]
  },
  {
   "cell_type": "markdown",
   "metadata": {},
   "source": [
    "##  Vibora Tests\n",
    "\n",
    "Doesn't run from the notebook. Run outside."
   ]
  },
  {
   "cell_type": "code",
   "execution_count": 8,
   "metadata": {},
   "outputs": [
    {
     "name": "stdout",
     "output_type": "stream",
     "text": [
      "# Vibora (0.0.7) # http://0.0.0.0:8000\n"
     ]
    }
   ],
   "source": [
    "from vibora import Vibora, JsonResponse\n",
    "\n",
    "app = Vibora()\n",
    "\n",
    "@app.route('/')\n",
    "async def home():\n",
    "    responseID = getUniqueResponseID()\n",
    "    responseEvents[responseID] = asyncio.Event()\n",
    "    print('In webserver waiting for response ...')\n",
    "    await responseEvents[responseID].wait()\n",
    "    return JsonResponse({'hello': 'world'})\n",
    "\n",
    "@app.route('/response')\n",
    "async def responseReceiver():\n",
    "    responseID = getUniqueResponseID()\n",
    "    responseEvents[responseID].set()\n",
    "    return JsonResponse({'msg': 'ok'})\n",
    "    "
   ]
  },
  {
   "cell_type": "code",
   "execution_count": 7,
   "metadata": {},
   "outputs": [
    {
     "name": "stdout",
     "output_type": "stream",
     "text": [
      "# Vibora (0.0.7) # http://0.0.0.0:8000\n"
     ]
    }
   ],
   "source": [
    "# Once you run this cell you will not be able to do anything else until you stop\n",
    "app.run(host=\"0.0.0.0\", port=8000)"
   ]
  },
  {
   "cell_type": "code",
   "execution_count": 11,
   "metadata": {},
   "outputs": [
    {
     "name": "stdout",
     "output_type": "stream",
     "text": [
      "hhggh\n"
     ]
    }
   ],
   "source": [
    "print(\"hhggh\")"
   ]
  },
  {
   "cell_type": "code",
   "execution_count": null,
   "metadata": {},
   "outputs": [],
   "source": []
  }
 ],
 "metadata": {
  "kernelspec": {
   "display_name": "Python 3",
   "language": "python",
   "name": "python3"
  },
  "language_info": {
   "codemirror_mode": {
    "name": "ipython",
    "version": 3
   },
   "file_extension": ".py",
   "mimetype": "text/x-python",
   "name": "python",
   "nbconvert_exporter": "python",
   "pygments_lexer": "ipython3",
   "version": "3.7.1"
  }
 },
 "nbformat": 4,
 "nbformat_minor": 2
}
