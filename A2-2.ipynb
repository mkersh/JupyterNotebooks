{
 "cells": [
  {
   "cell_type": "markdown",
   "metadata": {},
   "source": [
    "# Individual Assignment A2\n",
    "\n",
    "This assessment is marked out of 45 and comprises 40% of the final course mark.\n",
    "\n",
    "Due by 1700 on Thursday week 12 (1700 on Thursday 11th April).\n",
    "\n",
    "### Academic misconduct\n",
    "\n",
    "The assessment is primarily summative in nature. You are expected to be aware of and abide by University policies on academic misconduct.\n",
    "\n",
    "- [School of Mathematics academic misconduct advice and policies](https://teaching.maths.ed.ac.uk/main/undergraduate/studies/assessment/academic-misconduct)\n",
    "- [Academic Services academic misconduct information](https://www.ed.ac.uk/academic-services/students/conduct/academic-misconduct)\n",
    "\n",
    "**This is an individual assignment - do not copy the work of another student.**\n",
    "\n",
    "If you use any resources (e.g. textbooks or websites) then include appropriate references in your solutions. Course materials do not need to be referenced.\n",
    "\n",
    "### Markdown\n",
    "\n",
    "In workshops you have edited Jupyter Notebook \"code\" cells. Cells can also contain formatted text in \"markdown\" cells. Some questions ask for further discussion and explanation, which should be provided in appropriate markdown cells. You may wish to use formatting features of markdown cells, although this is optional.\n",
    "\n",
    "- [Jupyter Notebook: Markdown cells](https://jupyter-notebook.readthedocs.io/en/stable/examples/Notebook/Working%20With%20Markdown%20Cells.html)\n",
    "\n",
    "You can edit markdown cells (e.g the cell initially containing \"Discussion for question 1.1\" in question 1) by double clicking on them, and render the markdown by selecting the cell and pressing Shift+Return.\n",
    "\n",
    "### Code commentary\n",
    "\n",
    "Your code should be extensively commented, with the functionality of each line of code explained with a comment. This is to test your understanding of the code you have written. Up to half of the marks associated with the coding part of a question may be deducted for a missing, incomplete, or inaccurate code commentary.\n",
    "\n",
    "The following provides an example of the expected level of commenting."
   ]
  },
  {
   "cell_type": "code",
   "execution_count": null,
   "metadata": {},
   "outputs": [],
   "source": [
    "def is_prime(n):\n",
    "    \"\"\"\n",
    "    Return whether an input positive integer is prime.\n",
    "    \"\"\"\n",
    "    \n",
    "    if n == 1:        # If n is 1 ...\n",
    "        return False  # ... then n is not prime\n",
    "    \n",
    "    for i in range(2, n):  # Test integers i from 2 to n - 1 inclusive\n",
    "        if n % i == 0:     # If n is divisible by i ...\n",
    "            return False   # ... then n is not prime\n",
    "    # If n is not divisible by any integers from 2 to n - 1 inclusive then n is\n",
    "    # prime\n",
    "    return True"
   ]
  },
  {
   "cell_type": "markdown",
   "metadata": {},
   "source": [
    "### Output and figures\n",
    "\n",
    "Your code must generate and display all relevant output when run, and all figure formatting must be performed programmatically and not via the interactive plotting interface.\n",
    "\n",
    "Rerun your code cells after editing your code, to make sure that the output is updated.\n",
    "\n",
    "### Saving your work\n",
    "\n",
    "When you edit the notebook, before closing the window/tab make sure to select \"File\"->\"Save and Checkpoint\". If using Noteable make sure you also download and keep a copy of the edited file, using \"File\"->\"Download as\"->\"Notebook\".\n",
    "\n",
    "On lab computers make sure you save edited notebook files in an appropriate location, as otherwise they may be lost when you logout.\n",
    "\n",
    "- [Information Services: Saving your files](https://www.ed.ac.uk/information-services/computing/desktop-personal/open-access/using/windows7/saving-files)\n",
    "\n",
    "# Question 1: Area of a triangle\n",
    "\n",
    "For further relevant discussion on computing the area of a triangle see\n",
    "\n",
    "* [W. Kahan, Miscalculating area and angles of a needle-like triangle](https://people.eecs.berkeley.edu/~wkahan/Triangle.pdf)\n",
    "\n",
    "Consider a triangle in $\\mathbb{R}^2$ whose vertices have coordinates\n",
    "\n",
    "$$\\left( x_0, y_0 \\right) = \\left( 1, 1 \\right),$$\n",
    "$$\\left( x_1, y_1 \\right) = \\left( 2 + \\frac{1}{\\varepsilon}, 2 + \\frac{1}{\\varepsilon} \\right),$$\n",
    "$$\\left( x_2, y_2 \\right) = \\left( 2 - \\frac{2 \\varepsilon}{1 + \\varepsilon}, 2 + \\frac{2 \\varepsilon}{1 + \\varepsilon} \\right),$$\n",
    "where $\\varepsilon$ is some positive real value.\n",
    "\n",
    "The area of a triangle can be computed using Heron's formula (see section 1 of W. Kahan, referenced above)\n",
    "\n",
    "$$A = \\sqrt{s \\left( s - a \\right) \\left( s - b \\right) \\left( s - c \\right)}~,$$\n",
    "\n",
    "where $s = \\left( a + b + c \\right) / 2$, and $a$, $b$, and $c$ are the lengths of the three sides of the triangle.\n",
    "\n",
    "**1.1** Compute the area of the above triangle using Heron's formula and floating point arithmetic, for different values of $\\varepsilon$. Investigate and discuss what happens for small values of $\\varepsilon$. Investigate other ways of computing the area of the triangle.\n",
    "\n",
    "Summarise and explain your results in a discussion of no more than $350$ words.\n",
    "\n",
    "Your code should be well laid out and easy to understand.  You should make appropriate use of output and plots.\n",
    "\n",
    "**[10 marks]**"
   ]
  },
  {
   "cell_type": "code",
   "execution_count": null,
   "metadata": {},
   "outputs": [],
   "source": [
    "# Code for question 1.1"
   ]
  },
  {
   "cell_type": "markdown",
   "metadata": {},
   "source": [
    "### Discussion for question 1.1"
   ]
  },
  {
   "cell_type": "markdown",
   "metadata": {},
   "source": [
    "# Question 2: Numerical integration\n",
    "\n",
    "Throughout this question we consider Chebyshev polynomials, and quadrature rules, defined on the reference interval $x \\in \\left[ -1, 1 \\right]$.\n",
    "\n",
    "**2.1** The degree $p$ Chebyshev points are the roots of the degree $p$ Chebyshev polynomial. Write a function which accepts a positive integer $p$, defining the Chebyshev polynomial degree, and returns the degree $p$ Chebyshev points, as a NumPy vector. You may wish to make use of functionality provided by the following NumPy module\n",
    "\n",
    "* [NumPy: numpy.polynomials.chebyshev](https://docs.scipy.org/doc/numpy/reference/routines.polynomials.chebyshev.html)\n",
    "\n",
    "**[2 marks]**\n",
    "\n",
    "Hint: For $p =3$ the Chebyshev points are $\\left\\{ -\\sqrt{3} / 2, 0, \\sqrt{3} / 2 \\right\\}$.\n",
    "\n",
    "**2.2** Find the quadrature weights $w_i$ (for $i \\in \\left\\{ 1, \\ldots, p \\right\\}$) associated with interpolatory quadrature rules whose quadrature points $x_i$ are the associated degree $p$ Chebyshev points, for different values of $p$.\n",
    "\n",
    "Test the quadrature rule obtained for $p = 3$ by using it to approximate\n",
    "\n",
    "$$\\int_{-1}^1 \\left( 1 + \\cos \\left( \\pi x \\right) \\right) {}^2 \\mathrm{d}x,$$\n",
    "\n",
    "and compare the result against the exact value, obtained using SymPy.\n",
    "\n",
    "**[7 marks]**\n",
    "\n",
    "**2.3** Investigate the accuracy of the quadrature rules obtained for different values of $p$.\n",
    "\n",
    "Summarise and explain your results in a discussion of no more than 250 words. \n",
    "\n",
    "**[7 marks]**\n",
    "\n",
    "Your code should be well laid out and easy to understand. You should make appropriate use of displayed output and plots."
   ]
  },
  {
   "cell_type": "code",
   "execution_count": 2,
   "metadata": {},
   "outputs": [],
   "source": [
    "import numpy.polynomial.chebyshev as cheb\n"
   ]
  },
  {
   "cell_type": "markdown",
   "metadata": {},
   "source": [
    "http://www.exstrom.com/journal/sigproc/chebident.pdf"
   ]
  },
  {
   "cell_type": "code",
   "execution_count": 3,
   "metadata": {},
   "outputs": [
    {
     "data": {
      "text/plain": [
       "array([-5.00000000e-01,  2.52583602e-17,  1.00000000e+00])"
      ]
     },
     "execution_count": 3,
     "metadata": {},
     "output_type": "execute_result"
    }
   ],
   "source": [
    "cheb.chebroots((-1, 1,-1, 1)) # T3 - T2 + T1 - T0 has real roots"
   ]
  },
  {
   "cell_type": "code",
   "execution_count": 117,
   "metadata": {},
   "outputs": [
    {
     "data": {
      "text/plain": [
       "array([ 5.55111512e-17, -1.87500001e-01,  5.55111512e-17,  2.50000000e-01])"
      ]
     },
     "execution_count": 117,
     "metadata": {},
     "output_type": "execute_result"
    }
   ],
   "source": [
    "cheb.chebfromroots((-9.68245837e-01, -6.85215773e-17,  9.68245837e-01))"
   ]
  },
  {
   "cell_type": "code",
   "execution_count": 92,
   "metadata": {},
   "outputs": [
    {
     "data": {
      "text/plain": [
       "0.8660254037844386"
      ]
     },
     "execution_count": 92,
     "metadata": {},
     "output_type": "execute_result"
    }
   ],
   "source": [
    "import math\n",
    "math.sqrt(3.0)/2.0\n"
   ]
  },
  {
   "cell_type": "code",
   "execution_count": 34,
   "metadata": {},
   "outputs": [
    {
     "data": {
      "text/plain": [
       "3.141592653589793"
      ]
     },
     "execution_count": 34,
     "metadata": {},
     "output_type": "execute_result"
    }
   ],
   "source": [
    "import math\n",
    "math.sqrt(3)/2\n",
    "math.cos(0.5)\n",
    "math.pi"
   ]
  },
  {
   "cell_type": "code",
   "execution_count": 28,
   "metadata": {},
   "outputs": [
    {
     "ename": "ModuleNotFoundError",
     "evalue": "No module named 'sympy'",
     "output_type": "error",
     "traceback": [
      "\u001b[0;31m---------------------------------------------------------------------------\u001b[0m",
      "\u001b[0;31mModuleNotFoundError\u001b[0m                       Traceback (most recent call last)",
      "\u001b[0;32m<ipython-input-28-8a921eee0c61>\u001b[0m in \u001b[0;36m<module>\u001b[0;34m\u001b[0m\n\u001b[1;32m      1\u001b[0m \u001b[0;32mimport\u001b[0m \u001b[0mnumpy\u001b[0m\u001b[0;34m\u001b[0m\u001b[0;34m\u001b[0m\u001b[0m\n\u001b[0;32m----> 2\u001b[0;31m \u001b[0;32mimport\u001b[0m \u001b[0msympy\u001b[0m \u001b[0;32mas\u001b[0m \u001b[0msp\u001b[0m\u001b[0;34m\u001b[0m\u001b[0;34m\u001b[0m\u001b[0m\n\u001b[0m\u001b[1;32m      3\u001b[0m \u001b[0;32mfrom\u001b[0m \u001b[0mnumpy\u001b[0m \u001b[0;32mimport\u001b[0m \u001b[0mpolynomial\u001b[0m \u001b[0;32mas\u001b[0m \u001b[0mP\u001b[0m\u001b[0;34m\u001b[0m\u001b[0;34m\u001b[0m\u001b[0m\n\u001b[1;32m      4\u001b[0m \u001b[0;34m\u001b[0m\u001b[0m\n\u001b[1;32m      5\u001b[0m \u001b[0;32mdef\u001b[0m \u001b[0mconvertPolytoCheb\u001b[0m\u001b[0;34m(\u001b[0m\u001b[0mpList\u001b[0m\u001b[0;34m)\u001b[0m\u001b[0;34m:\u001b[0m\u001b[0;34m\u001b[0m\u001b[0;34m\u001b[0m\u001b[0m\n",
      "\u001b[0;31mModuleNotFoundError\u001b[0m: No module named 'sympy'"
     ]
    }
   ],
   "source": [
    "import numpy\n",
    "\n",
    "from numpy import polynomial as P\n",
    "\n",
    "def convertPolytoCheb(pList):\n",
    "    pListLen = len(pList)\n",
    "    p = P.Polynomial(range(pListLen))\n",
    "    c = p.convert(kind=P.Chebyshev)\n",
    "    return P.chebyshev.poly2cheb(range(pListLen))"
   ]
  },
  {
   "cell_type": "code",
   "execution_count": 69,
   "metadata": {},
   "outputs": [],
   "source": [
    "# Code for questions 2.1--2.3\n",
    "\n",
    "def minusLists(t1, t0):\n",
    "    res1 = []\n",
    "    i = 0\n",
    "    for i, v in enumerate(t0):\n",
    "        res1 += [t1[i] - v]\n",
    "    for j in range(i+1,len(t1)):\n",
    "        res1 += [t1[j]]\n",
    "    return res1\n",
    "        \n",
    "\n",
    "# Code for 2.1\n",
    "def degreePChebyPoly(p):\n",
    "    if p == 0:\n",
    "        return [1]\n",
    "    elif p == 1:\n",
    "        return [0,1]\n",
    "    else: \n",
    "        pMinus1 = degreePChebyPoly(p-1)\n",
    "        pMinus2 = degreePChebyPoly(p-2)\n",
    "        pTerm = [0] + pMinus1  # This is x*pMinus1 - i.e. (1,2) = 2x + 1 ==> (0,1,2) = 2x^2 + X \n",
    "        func = lambda x: 2 * x\n",
    "        pTerm2 = list(map(func, pTerm))\n",
    "        pTerm3 = minusLists(pTerm2,pMinus2)\n",
    "        return pTerm3\n",
    "\n",
    "def degreePChebyPointsWrong(p):\n",
    "    polyList = degreePChebyPoly(p)\n",
    "    return cheb.chebroots(polyList)\n",
    "\n",
    "# This next one works\n",
    "def degreePChebyPoints(p):\n",
    "    print(\"degreePChebyPoints - start\")\n",
    "    polyList = degreePChebyPoly(p)\n",
    "    polyListRev = list(reversed(polyList))\n",
    "    roots = numpy.roots(polyListRev)\n",
    "    roots.sort()\n",
    "    print(\"degreePChebyPoints - end\")\n",
    "    return roots\n",
    "\n",
    "\n"
   ]
  },
  {
   "cell_type": "code",
   "execution_count": 24,
   "metadata": {},
   "outputs": [
    {
     "name": "stdout",
     "output_type": "stream",
     "text": [
      "[-0.8660254  0.         0.8660254]\n"
     ]
    }
   ],
   "source": [
    "a = degreePChebyPoints(3)\n",
    "print(a)"
   ]
  },
  {
   "cell_type": "code",
   "execution_count": 101,
   "metadata": {},
   "outputs": [
    {
     "data": {
      "text/plain": [
       "[0, -3, 0, 4]"
      ]
     },
     "execution_count": 101,
     "metadata": {},
     "output_type": "execute_result"
    }
   ],
   "source": [
    "degreePChebyPoly(3)"
   ]
  },
  {
   "cell_type": "markdown",
   "metadata": {},
   "source": [
    "https://docs.scipy.org/doc/scipy-0.14.0/reference/generated/scipy.integrate.quadrature.html"
   ]
  },
  {
   "cell_type": "code",
   "execution_count": 3,
   "metadata": {},
   "outputs": [
    {
     "data": {
      "text/plain": [
       "(array([ 8.66025404e-01,  6.12323400e-17, -8.66025404e-01]),\n",
       " array([1.04719755, 1.04719755, 1.04719755]))"
      ]
     },
     "execution_count": 3,
     "metadata": {},
     "output_type": "execute_result"
    }
   ],
   "source": [
    "cheb.chebgauss(3)"
   ]
  },
  {
   "cell_type": "code",
   "execution_count": 22,
   "metadata": {},
   "outputs": [
    {
     "data": {
      "text/plain": [
       "array([2., 1., 2.])"
      ]
     },
     "execution_count": 22,
     "metadata": {},
     "output_type": "execute_result"
    }
   ],
   "source": [
    "b = numpy.array([ 8.66025404e-01,  6.12323400e-17, -8.66025404e-01],dtype=float)\n",
    "cheb.chebweight(b)\n"
   ]
  },
  {
   "cell_type": "code",
   "execution_count": 58,
   "metadata": {},
   "outputs": [],
   "source": [
    "def func1(x):\n",
    "    return (1 + math.cos(math.pi*x))**2\n",
    "\n",
    "    \n",
    "def chebyQuadrature(p):\n",
    "    a = degreePChebyPoints(p)\n",
    "    points, weights = cheb.chebgauss(p)\n",
    "    res = 0.0\n",
    "    for i in range(len(a)):\n",
    "        res += weights[i] * func1(a[i])\n",
    "    return res"
   ]
  },
  {
   "cell_type": "code",
   "execution_count": 62,
   "metadata": {},
   "outputs": [
    {
     "data": {
      "text/plain": [
       "0.4884315617262869"
      ]
     },
     "execution_count": 62,
     "metadata": {},
     "output_type": "execute_result"
    }
   ],
   "source": [
    "chebyQuadrature(2)"
   ]
  },
  {
   "cell_type": "code",
   "execution_count": 37,
   "metadata": {},
   "outputs": [
    {
     "data": {
      "text/plain": [
       "4.0"
      ]
     },
     "execution_count": 37,
     "metadata": {},
     "output_type": "execute_result"
    }
   ],
   "source": [
    "func1(0)"
   ]
  },
  {
   "cell_type": "code",
   "execution_count": 71,
   "metadata": {},
   "outputs": [
    {
     "name": "stdout",
     "output_type": "stream",
     "text": [
      "degreePChebyPoints - start\n",
      "degreePChebyPoints - end\n",
      "1: 12.566370614359172\n",
      "degreePChebyPoints - start\n",
      "degreePChebyPoints - end\n",
      "2: 0.4884315617262869\n",
      "degreePChebyPoints - start\n",
      "degreePChebyPoints - end\n",
      "3: 4.2047433496671625\n",
      "degreePChebyPoints - start\n",
      "degreePChebyPoints - end\n",
      "4: 2.9077848669422526\n",
      "degreePChebyPoints - start\n",
      "degreePChebyPoints - end\n",
      "5: 3.1788925872046074\n",
      "degreePChebyPoints - start\n",
      "degreePChebyPoints - end\n",
      "6: 3.1440090915741576\n",
      "degreePChebyPoints - start\n",
      "degreePChebyPoints - end\n",
      "7: 3.146957062288694\n",
      "degreePChebyPoints - start\n",
      "degreePChebyPoints - end\n",
      "8: 3.1467816669009285\n",
      "degreePChebyPoints - start\n",
      "degreePChebyPoints - end\n",
      "9: 3.14678941636617\n",
      "degreePChebyPoints - start\n",
      "degreePChebyPoints - end\n",
      "10: 3.1467891517576345\n",
      "degreePChebyPoints - start\n",
      "degreePChebyPoints - end\n",
      "11: 3.146789158956168\n",
      "degreePChebyPoints - start\n",
      "degreePChebyPoints - end\n",
      "12: 3.1467891587963552\n",
      "degreePChebyPoints - start\n",
      "degreePChebyPoints - end\n",
      "13: 3.146789158799312\n",
      "degreePChebyPoints - start\n",
      "degreePChebyPoints - end\n",
      "14: 3.1467891587992587\n",
      "degreePChebyPoints - start\n",
      "degreePChebyPoints - end\n",
      "15: 3.1467891587992773\n",
      "degreePChebyPoints - start\n",
      "degreePChebyPoints - end\n",
      "16: 3.146789158799267\n",
      "degreePChebyPoints - start\n",
      "degreePChebyPoints - end\n",
      "17: 3.1467891587992622\n",
      "degreePChebyPoints - start\n",
      "degreePChebyPoints - end\n",
      "18: 3.14678915879926\n",
      "degreePChebyPoints - start\n",
      "degreePChebyPoints - end\n",
      "19: 3.1467891587992654\n",
      "degreePChebyPoints - start\n",
      "degreePChebyPoints - end\n",
      "20: 3.1467891587992574\n",
      "degreePChebyPoints - start\n",
      "degreePChebyPoints - end\n",
      "21: 3.1467891587992614\n",
      "degreePChebyPoints - start\n",
      "degreePChebyPoints - end\n",
      "22: 3.1467891587992267\n",
      "degreePChebyPoints - start\n",
      "degreePChebyPoints - end\n",
      "23: 3.1467891587992867\n",
      "degreePChebyPoints - start\n",
      "degreePChebyPoints - end\n",
      "24: 3.146789158799263\n",
      "degreePChebyPoints - start\n",
      "degreePChebyPoints - end\n",
      "25: 3.146789158799245\n",
      "degreePChebyPoints - start\n",
      "degreePChebyPoints - end\n",
      "26: 3.1467891587992245\n",
      "degreePChebyPoints - start\n",
      "degreePChebyPoints - end\n",
      "27: 3.1467891587992747\n",
      "degreePChebyPoints - start\n",
      "degreePChebyPoints - end\n",
      "28: 3.146789158799254\n",
      "degreePChebyPoints - start\n",
      "degreePChebyPoints - end\n",
      "29: 3.146789158799255\n",
      "degreePChebyPoints - start\n",
      "degreePChebyPoints - end\n",
      "30: 3.146789158799199\n",
      "degreePChebyPoints - start\n",
      "degreePChebyPoints - end\n",
      "31: 3.1467891587992685\n",
      "degreePChebyPoints - start\n",
      "degreePChebyPoints - end\n",
      "32: 3.146789158799251\n",
      "degreePChebyPoints - start\n",
      "degreePChebyPoints - end\n",
      "33: 3.1467891587992227\n",
      "degreePChebyPoints - start\n",
      "degreePChebyPoints - end\n",
      "34: 3.146789158799291\n"
     ]
    }
   ],
   "source": [
    "for i in range(1,35):\n",
    "    print(\"{0}: {1}\".format(i, chebyQuadrature(i)))"
   ]
  },
  {
   "cell_type": "code",
   "execution_count": null,
   "metadata": {},
   "outputs": [],
   "source": []
  },
  {
   "cell_type": "code",
   "execution_count": null,
   "metadata": {},
   "outputs": [],
   "source": []
  },
  {
   "cell_type": "code",
   "execution_count": 143,
   "metadata": {},
   "outputs": [
    {
     "data": {
      "text/plain": [
       "array([-2.,  2.])"
      ]
     },
     "execution_count": 143,
     "metadata": {},
     "output_type": "execute_result"
    }
   ],
   "source": [
    "numpy.roots([1,0,-4])"
   ]
  },
  {
   "cell_type": "code",
   "execution_count": 146,
   "metadata": {},
   "outputs": [
    {
     "data": {
      "text/plain": [
       "array([1., 2.])"
      ]
     },
     "execution_count": 146,
     "metadata": {},
     "output_type": "execute_result"
    }
   ],
   "source": [
    "numpy.array([1,2],dtype=numpy.float)"
   ]
  },
  {
   "cell_type": "code",
   "execution_count": 107,
   "metadata": {},
   "outputs": [
    {
     "name": "stdout",
     "output_type": "stream",
     "text": [
      "[2, 6]\n"
     ]
    },
    {
     "data": {
      "text/plain": [
       "[0, 3]"
      ]
     },
     "execution_count": 107,
     "metadata": {},
     "output_type": "execute_result"
    }
   ],
   "source": [
    "x = [1,3]\n",
    "y = [1]\n",
    "\n",
    "\n",
    "func = lambda x: 2 * x\n",
    "pTerm2 = list(map(func, x))\n",
    "print(pTerm2)\n",
    "minusLists(x,y)"
   ]
  },
  {
   "cell_type": "code",
   "execution_count": 123,
   "metadata": {},
   "outputs": [
    {
     "data": {
      "text/plain": [
       "[1.0, 3.25, 1.0, 0.75]"
      ]
     },
     "execution_count": 123,
     "metadata": {},
     "output_type": "execute_result"
    }
   ],
   "source": [
    "list(convertPolytoCheb([ 0.,  1.,  2.,  3.]))"
   ]
  },
  {
   "cell_type": "code",
   "execution_count": 180,
   "metadata": {},
   "outputs": [],
   "source": [
    "# Tried the following but doesn't work\n",
    "def degreePChebyPoints3(p):\n",
    "    polyList = degreePChebyPoly(p)\n",
    "    polyListRev = list(reversed(polyList))\n",
    "    chebSeries = convertPolytoCheb(polyListRev)\n",
    "    return cheb.chebroots(chebSeries)"
   ]
  },
  {
   "cell_type": "markdown",
   "metadata": {},
   "source": [
    "### Discussion for question 2.3"
   ]
  },
  {
   "cell_type": "markdown",
   "metadata": {},
   "source": [
    "# Question 3: Root finding\n",
    "\n",
    "Consider the function\n",
    "\n",
    "$$F \\left( x \\right) = x^3 \\cos \\left( x \\right) - \\frac{x^3}{10}.$$\n",
    "\n",
    "**3.1** Plot this function on the intervals $x \\in \\left[ -0.5, 1.5 \\right]$ and $x \\in \\left[ -0.5, 5 \\right]$. Use the SciPy `optimize.fsolve` function to find values for the roots of $F \\left( x \\right)$ in the interval $x \\in \\left[ -0.5, 5 \\right]$.\n",
    "\n",
    "Your code should be well laid out and easy to understand. Your plots should be appropriately formatted. You should make appropriate use of displayed output.\n",
    "\n",
    "**[4 marks]**"
   ]
  },
  {
   "cell_type": "code",
   "execution_count": null,
   "metadata": {},
   "outputs": [],
   "source": [
    "# Code for question 3.1"
   ]
  },
  {
   "cell_type": "markdown",
   "metadata": {},
   "source": [
    "**3.2** Use Newton's method, and two other root finding methods, to seek the roots of $F \\left( x \\right)$ in the interval $x \\in \\left[ -0.5, 5 \\right]$, identified in question 3.1.\n",
    "\n",
    "Investigate the convergence properties of Newton's method for this problem, for each of the roots, and compare this against the convergence properties of the other methods.\n",
    "\n",
    "Summarise and explain your results in a discussion of no more than 500 words.\n",
    "\n",
    "Your code should be well laid out and easy to understand. You should make appropriate use of displayed output and plots.\n",
    "\n",
    "**[15 marks]**"
   ]
  },
  {
   "cell_type": "code",
   "execution_count": 1,
   "metadata": {},
   "outputs": [],
   "source": [
    "# Code for question 3.2"
   ]
  },
  {
   "cell_type": "markdown",
   "metadata": {},
   "source": [
    "### Discussion for question 3.2"
   ]
  }
 ],
 "metadata": {
  "kernelspec": {
   "display_name": "Python 3",
   "language": "python",
   "name": "python3"
  },
  "language_info": {
   "codemirror_mode": {
    "name": "ipython",
    "version": 3
   },
   "file_extension": ".py",
   "mimetype": "text/x-python",
   "name": "python",
   "nbconvert_exporter": "python",
   "pygments_lexer": "ipython3",
   "version": "3.7.1"
  }
 },
 "nbformat": 4,
 "nbformat_minor": 2
}
